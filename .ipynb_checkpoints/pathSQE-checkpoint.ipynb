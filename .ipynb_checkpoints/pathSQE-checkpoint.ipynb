{
 "cells": [
  {
   "cell_type": "markdown",
   "metadata": {},
   "source": [
    "# task description"
   ]
  },
  {
   "cell_type": "markdown",
   "metadata": {},
   "source": [
    "Simple overview - write script that takes POSCAR and mde workspace as input and plots dispersions along high symmetry path. Some steps could include:\n",
    "* give crystal structure and it outputs a high symmetry path (seekpath package)\n",
    "* choose q dimensions\n",
    "* choose some offset by whole int BZ (depending on coverage, signal strength, rings, etc.)\n",
    "* choose q bins\n",
    "* make a slice for each with mantid and save workspace mde\n",
    "* need to scale each portion so that it is in terms of inv angstrom\n"
   ]
  },
  {
   "cell_type": "markdown",
   "metadata": {},
   "source": [
    "# setup"
   ]
  },
  {
   "cell_type": "code",
   "execution_count": 1,
   "metadata": {
    "execution": {
     "iopub.execute_input": "2023-10-27T15:57:37.617712Z",
     "iopub.status.busy": "2023-10-27T15:57:37.617259Z",
     "iopub.status.idle": "2023-10-27T15:57:37.991577Z",
     "shell.execute_reply": "2023-10-27T15:57:37.990933Z",
     "shell.execute_reply.started": "2023-10-27T15:57:37.617688Z"
    },
    "tags": []
   },
   "outputs": [],
   "source": [
    "#%matplotlib inline\n",
    "import numpy as np\n",
    "import matplotlib.pyplot as plt\n",
    "import seekpath\n",
    "from seekpath.util import atoms_num_dict\n",
    "#from pathSQE_functions import *"
   ]
  },
  {
   "cell_type": "code",
   "execution_count": 2,
   "metadata": {
    "execution": {
     "iopub.execute_input": "2023-10-27T15:57:40.204431Z",
     "iopub.status.busy": "2023-10-27T15:57:40.203971Z",
     "iopub.status.idle": "2023-10-27T15:57:41.186346Z",
     "shell.execute_reply": "2023-10-27T15:57:41.185851Z",
     "shell.execute_reply.started": "2023-10-27T15:57:40.204404Z"
    },
    "tags": []
   },
   "outputs": [
    {
     "name": "stdout",
     "output_type": "stream",
     "text": [
      "FrameworkManager-[Notice] Welcome to Mantid 6.7.0\n",
      "FrameworkManager-[Notice] Please cite: http://dx.doi.org/10.1016/j.nima.2014.07.029 and this release: http://dx.doi.org/10.5286/Software/Mantid6.7\n",
      "DownloadInstrument-[Notice] All instrument definitions up to date\n"
     ]
    },
    {
     "name": "stderr",
     "output_type": "stream",
     "text": [
      "the imp module is deprecated in favour of importlib; see the module's documentation for alternative uses\n"
     ]
    }
   ],
   "source": [
    "from matplotlib.gridspec import GridSpec\n",
    "from mantid.simpleapi import *\n",
    "from mantid import plots\n",
    "import os\n",
    "import imp\n",
    "import sys\n",
    "from reduce_data_to_MDE_07142023 import *\n",
    "from slice_utils_07142023 import *\n",
    "sys.path.append('manual_mantid_reduceAndViz')\n",
    "import define_data"
   ]
  },
  {
   "cell_type": "markdown",
   "metadata": {},
   "source": [
    "# read poscar for seekpath input"
   ]
  },
  {
   "cell_type": "code",
   "execution_count": 3,
   "metadata": {
    "execution": {
     "iopub.execute_input": "2023-10-27T15:57:52.941385Z",
     "iopub.status.busy": "2023-10-27T15:57:52.940990Z",
     "iopub.status.idle": "2023-10-27T15:57:52.947516Z",
     "shell.execute_reply": "2023-10-27T15:57:52.947060Z",
     "shell.execute_reply.started": "2023-10-27T15:57:52.941364Z"
    },
    "tags": []
   },
   "outputs": [],
   "source": [
    "def simple_read_poscar(fname):\n",
    "    \"\"\"Read a POSCAR file.\"\"\"\n",
    "    with open(fname) as f:\n",
    "        lines = [l.partition(\"!\")[0] for l in f.readlines()]\n",
    "\n",
    "    alat = float(lines[1])\n",
    "    v1 = [float(_) * alat for _ in lines[2].split()]\n",
    "    v2 = [float(_) * alat for _ in lines[3].split()]\n",
    "    v3 = [float(_) * alat for _ in lines[4].split()]\n",
    "    cell = [v1, v2, v3]\n",
    "\n",
    "    species = lines[5].split()\n",
    "    num_atoms = [int(_) for _ in lines[6].split()]\n",
    "\n",
    "    next_line = lines[7]\n",
    "    if next_line.strip().lower() != \"direct\":\n",
    "        raise ValueError(\"This simple routine can only deal with 'direct' POSCARs\")\n",
    "    # Note: to support also cartesian, remember to multiply the coordinates by alat\n",
    "\n",
    "    positions = []\n",
    "    atomic_numbers = []\n",
    "    cnt = 8\n",
    "    for el, num in zip(species, num_atoms):\n",
    "        atom_num = atoms_num_dict[el.capitalize()]\n",
    "        for _ in range(num):\n",
    "            atomic_numbers.append(atom_num)\n",
    "            positions.append([float(_) for _ in lines[cnt].split()])\n",
    "            cnt += 1\n",
    "\n",
    "    return (cell, positions, atomic_numbers)"
   ]
  },
  {
   "cell_type": "code",
   "execution_count": 126,
   "metadata": {
    "execution": {
     "iopub.execute_input": "2023-09-29T18:33:48.789383Z",
     "iopub.status.busy": "2023-09-29T18:33:48.789069Z",
     "iopub.status.idle": "2023-09-29T18:33:48.793078Z",
     "shell.execute_reply": "2023-09-29T18:33:48.792526Z",
     "shell.execute_reply.started": "2023-09-29T18:33:48.789364Z"
    },
    "tags": []
   },
   "outputs": [
    {
     "name": "stdout",
     "output_type": "stream",
     "text": [
      "([[4.65547841329003, -0.0, 0.0], [0.0, 4.65547841329003, -0.0], [0.0, -0.0, 4.65547841329003]], [[0.13476038461486, 0.13476038461486, 0.13476038461486], [0.36523961538514, 0.86523961538514, 0.63476038461486], [0.86523961538514, 0.63476038461486, 0.36523961538514], [0.63476038461486, 0.36523961538514, 0.86523961538514], [0.84874890814554, 0.84874890814554, 0.84874890814554], [0.65125109185446, 0.15125109185446, 0.34874890814554], [0.15125109185446, 0.34874890814554, 0.65125109185446], [0.34874890814554, 0.65125109185446, 0.15125109185446]], [26, 26, 26, 26, 14, 14, 14, 14])\n"
     ]
    }
   ],
   "source": [
    "poscar = simple_read_poscar('files_for_nb/POSCAR')\n",
    "print(poscar)"
   ]
  },
  {
   "cell_type": "markdown",
   "metadata": {},
   "source": [
    "# determining high symmetry path"
   ]
  },
  {
   "cell_type": "markdown",
   "metadata": {},
   "source": [
    "FeSi unit cell:\n",
    "\n",
    "<img src=\"files_for_nb/FeSi_unitCell.png\" alt=\"Alternative text\" />"
   ]
  },
  {
   "cell_type": "code",
   "execution_count": 127,
   "metadata": {
    "execution": {
     "iopub.execute_input": "2023-09-29T18:33:49.858317Z",
     "iopub.status.busy": "2023-09-29T18:33:49.857878Z",
     "iopub.status.idle": "2023-09-29T18:33:49.862841Z",
     "shell.execute_reply": "2023-09-29T18:33:49.862439Z",
     "shell.execute_reply.started": "2023-09-29T18:33:49.858300Z"
    },
    "tags": []
   },
   "outputs": [
    {
     "name": "stdout",
     "output_type": "stream",
     "text": [
      "[('GAMMA', 'X'), ('X', 'M'), ('M', 'GAMMA'), ('GAMMA', 'R'), ('R', 'X'), ('R', 'M'), ('M', 'X_1')]\n",
      "{'GAMMA': [0.0, 0.0, 0.0], 'R': [0.5, 0.5, 0.5], 'M': [0.5, 0.5, 0.0], 'X': [0.0, 0.5, 0.0], 'X_1': [0.5, 0.0, 0.0]}\n",
      "dict_keys(['point_coords', 'path', 'has_inversion_symmetry', 'augmented_path', 'bravais_lattice', 'bravais_lattice_extended', 'conv_lattice', 'conv_positions', 'conv_types', 'primitive_lattice', 'primitive_positions', 'primitive_types', 'reciprocal_primitive_lattice', 'inverse_primitive_transformation_matrix', 'primitive_transformation_matrix', 'volume_original_wrt_conv', 'volume_original_wrt_prim', 'spacegroup_number', 'spacegroup_international', 'rotation_matrix'])\n"
     ]
    }
   ],
   "source": [
    "path = seekpath.get_path(structure=poscar)\n",
    "print(path['path'])\n",
    "print(path['point_coords'])\n",
    "print(path.keys())"
   ]
  },
  {
   "cell_type": "markdown",
   "metadata": {},
   "source": [
    "Seekpath for FeSi matches the path given by aflow: https://aflow.org/material/?id=aflow:36503a08caf0a17f\n",
    "\n",
    "Can look at path and BZ in seekpath online tool + visualizer: https://www.materialscloud.org/work/tools/seekpath\n",
    "\n",
    "<img src=\"files_for_nb/FeSi_highSymPath1_sm.png\" alt=\"Alternative text\" />\n",
    "\n",
    "<img src=\"files_for_nb/FeSi_highSymPath_sm.png\" alt=\"Alternative text\" />"
   ]
  },
  {
   "cell_type": "markdown",
   "metadata": {},
   "source": [
    "# choosing dims and bins for slices"
   ]
  },
  {
   "cell_type": "markdown",
   "metadata": {},
   "source": [
    "Need to be able to choose q dimensions and bins based on the given symmetry endpoints of each path segment. Work through some example by hand to try and understand the algorithm\n",
    "\n",
    "* For (GAMMA,X)=[(0,0,0),(0,0.5,0)]   !!!MAYBE WRONG!!!\n",
    "\n",
    "'QDimension0':'1,1,0',\n",
    "\n",
    "'QDimension1':'-1,1,0',\n",
    "\n",
    "'QDimension2':'0,0,1',\n",
    "\n",
    "<br>\n",
    "'Dimension0Binning':'-0.15,0.15',\n",
    "\n",
    "'Dimension1Binning':'-0.15,0.15',\n",
    "\n",
    "'Dimension2Binning':'0,0.025,0.5'\n",
    "\n",
    "<br>\n",
    "\n",
    "* For (X,M)=[(0,0.5,0), (0.5,0.5,0)]        !!!ON PAPER!!!\n",
    "\n",
    "'QDimension0':'1,1,0',\n",
    "\n",
    "'QDimension1':'-1,1,0',\n",
    "\n",
    "'QDimension2':'0,0,1',\n",
    "\n",
    "<br>\n",
    "'Dimension0Binning':'3.85,4.15',\n",
    "\n",
    "'Dimension1Binning':'-0.15,0.15',\n",
    "\n",
    "'Dimension2Binning':'-7.3625,0.025,8.4875'\n"
   ]
  },
  {
   "cell_type": "code",
   "execution_count": 128,
   "metadata": {
    "execution": {
     "iopub.execute_input": "2023-09-29T18:33:51.527543Z",
     "iopub.status.busy": "2023-09-29T18:33:51.527303Z",
     "iopub.status.idle": "2023-09-29T18:33:51.530962Z",
     "shell.execute_reply": "2023-09-29T18:33:51.530573Z",
     "shell.execute_reply.started": "2023-09-29T18:33:51.527527Z"
    },
    "tags": []
   },
   "outputs": [
    {
     "name": "stdout",
     "output_type": "stream",
     "text": [
      "('GAMMA', 'X')\n",
      "[0.0, 0.0, 0.0]\n",
      "[0.0, 0.5, 0.0]\n",
      "test\n",
      "GAMMA\n",
      "[0.0, 0.0, 0.0]\n",
      "cP\n"
     ]
    }
   ],
   "source": [
    "print(path['path'][0])\n",
    "print(path['point_coords']['GAMMA'])\n",
    "print(path['point_coords']['X'])\n",
    "\n",
    "print('test')\n",
    "point_cord = path['point_coords']\n",
    "path_seg = path['path'][0]\n",
    "path_brav = path['bravais_lattice']\n",
    "print(path_seg[0])\n",
    "print(point_cord[path_seg[0]])\n",
    "print(path_brav)"
   ]
  },
  {
   "cell_type": "code",
   "execution_count": 129,
   "metadata": {
    "execution": {
     "iopub.execute_input": "2023-09-29T18:33:51.971530Z",
     "iopub.status.busy": "2023-09-29T18:33:51.971165Z",
     "iopub.status.idle": "2023-09-29T18:33:51.976568Z",
     "shell.execute_reply": "2023-09-29T18:33:51.976071Z",
     "shell.execute_reply.started": "2023-09-29T18:33:51.971506Z"
    },
    "tags": []
   },
   "outputs": [
    {
     "name": "stdout",
     "output_type": "stream",
     "text": [
      "[0.  0.5 0. ]\n",
      "[1]\n",
      "[-2.    0.05  2.  ]\n"
     ]
    }
   ],
   "source": [
    "diff = np.array(point_cord[path_seg[1]]) - np.array(point_cord[path_seg[0]])\n",
    "print(diff)\n",
    "print(np.nonzero(diff)[0])\n",
    "scaler = 1/diff[np.nonzero(diff)[0]]\n",
    "qdim0_range = np.array([-1,0.025,1])\n",
    "print(qdim0_range*scaler)"
   ]
  },
  {
   "cell_type": "code",
   "execution_count": 130,
   "metadata": {
    "execution": {
     "iopub.execute_input": "2023-09-29T18:33:52.617073Z",
     "iopub.status.busy": "2023-09-29T18:33:52.616738Z",
     "iopub.status.idle": "2023-09-29T18:33:52.620693Z",
     "shell.execute_reply": "2023-09-29T18:33:52.620291Z",
     "shell.execute_reply.started": "2023-09-29T18:33:52.617058Z"
    },
    "tags": []
   },
   "outputs": [
    {
     "name": "stdout",
     "output_type": "stream",
     "text": [
      "[0.3  0.   0.75]\n",
      "[0 2]\n",
      "[-3.33333333  0.08333333  3.33333333]\n"
     ]
    }
   ],
   "source": [
    "diff3d = np.array([0.3,0,0.75])\n",
    "print(diff3d)\n",
    "print(np.nonzero(diff3d)[0])\n",
    "minDiffNonZero = np.min(diff3d[np.nonzero(diff3d)[0]])\n",
    "scaler = 1/minDiffNonZero\n",
    "def_range = np.array([-1,0.025,1])\n",
    "qdim0_range = def_range*scaler\n",
    "print(qdim0_range)"
   ]
  },
  {
   "cell_type": "code",
   "execution_count": 131,
   "metadata": {
    "execution": {
     "iopub.execute_input": "2023-09-29T18:33:53.176102Z",
     "iopub.status.busy": "2023-09-29T18:33:53.175809Z",
     "iopub.status.idle": "2023-09-29T18:33:53.179958Z",
     "shell.execute_reply": "2023-09-29T18:33:53.179556Z",
     "shell.execute_reply.started": "2023-09-29T18:33:53.176087Z"
    },
    "tags": []
   },
   "outputs": [
    {
     "name": "stdout",
     "output_type": "stream",
     "text": [
      "[0.37139068 0.         0.92847669]\n",
      "h parallel score: 0.3713906763541037\n",
      "k parallel score: 0.0\n",
      "l parallel score: 0.9284766908852594\n"
     ]
    }
   ],
   "source": [
    "h = np.array([1,0,0])\n",
    "k = np.array([0,1,0])\n",
    "l = np.array([0,0,1])\n",
    "\n",
    "#qdim0 = np.array(point_cord[path_seg[1]]) - np.array(point_cord[path_seg[0]])\n",
    "qdim0 = np.array([0.3,0,0.75])\n",
    "unit_qdim0 = qdim0 / np.linalg.norm(qdim0)\n",
    "print(unit_qdim0)\n",
    "print(\"h parallel score: {}\".format(np.dot(unit_qdim0,h)))\n",
    "print(\"k parallel score: {}\".format(np.dot(unit_qdim0,k)))\n",
    "print(\"l parallel score: {}\".format(np.dot(unit_qdim0,l)))\n"
   ]
  },
  {
   "cell_type": "markdown",
   "metadata": {},
   "source": [
    "Helpful links:\n",
    "* Angle btw two vecs: https://www.emathhelp.net/en/calculators/linear-algebra/angle-between-two-vectors-calculator/?u=0.25%2C0.75%2C0.5&v=0.75%2C-0.25%2C0\n",
    "\n",
    "* Cross product calc: https://www.symbolab.com/solver/vector-cross-product-calculator/%5Cbegin%7Bpmatrix%7D0.25%260.75%260.5%5Cend%7Bpmatrix%7D%5Ctimes%5Cbegin%7Bpmatrix%7D0.75%26-0.25%260%5Cend%7Bpmatrix%7D?or=input\n",
    "\n",
    "* Find plane eq given 3 points: https://keisan.casio.com/exec/system/1223596129\n",
    "\n",
    "* Geogebra 3D viz: https://www.geogebra.org/3d?lang=en "
   ]
  },
  {
   "cell_type": "code",
   "execution_count": 4,
   "metadata": {
    "execution": {
     "iopub.execute_input": "2023-10-27T15:58:12.226877Z",
     "iopub.status.busy": "2023-10-27T15:58:12.226410Z",
     "iopub.status.idle": "2023-10-27T15:58:12.240615Z",
     "shell.execute_reply": "2023-10-27T15:58:12.240163Z",
     "shell.execute_reply.started": "2023-10-27T15:58:12.226858Z"
    },
    "tags": []
   },
   "outputs": [],
   "source": [
    "def calc_para_scores(qdim0):\n",
    "    hkl = np.array([[1,0,0],[0,1,0],[0,0,1]])\n",
    "    unit_qdim0 = qdim0 / np.linalg.norm(qdim0)\n",
    "    # calculate degree of parallelism btw qdim0 and hkl vecs\n",
    "    para_scores = np.zeros((3,1))\n",
    "    for i in range(3):\n",
    "        para_scores[i] = np.dot(unit_qdim0,hkl[i])\n",
    "    return para_scores\n",
    "\n",
    "\n",
    "def find_qdim_1and2(qdim0, perp_to_path=False):\n",
    "    hkl = np.array([[1,0,0],[0,1,0],[0,0,1]])\n",
    "    # if non-default perp to path method is wanted\n",
    "    if perp_to_path:\n",
    "        if np.count_nonzero(qdim0) == 1:\n",
    "            # if diff=dim0 is 1D, then dim1 and dim2 will also just be 1D h,k,or l\n",
    "            qdim0_dir = np.nonzero(qdim0)[0]\n",
    "            hkl_avail = np.delete(hkl, qdim0_dir, axis=0)\n",
    "            qdim1 = hkl_avail[0]\n",
    "            qdim2 = hkl_avail[1]\n",
    "        elif (np.count_nonzero(qdim0) == 2) or (np.count_nonzero(qdim0) == 3):\n",
    "            nzeroInds = np.nonzero(qdim0)[0]\n",
    "            qdim1 = qdim0.copy()\n",
    "            # swap h and k and make one negative to give perpen direction within the horizontal plane\n",
    "            # If qdim0 is 3D, need to set l to 0 so that it is perpen and in the horizontal plane \n",
    "            qdim1[nzeroInds[0]], qdim1[nzeroInds[1]] = qdim0[nzeroInds[1]], -qdim0[nzeroInds[0]]\n",
    "            if np.count_nonzero(qdim0) == 3:\n",
    "                qdim1[2] = 0 \n",
    "            # qdim2 is simply the direction perpen to qdim0 and qdim1\n",
    "            qdim2 = np.cross(qdim0, qdim1)\n",
    "            qdim2 = qdim2 / np.max(np.absolute(qdim2))\n",
    "            # MAYBE DON'T (messing w bin offset) - normalize the two qdims so that mag of each is 1 A-1 and can easily do bins +/- 0.15\n",
    "            #qdim1 = qdim1 / np.linalg.norm(qdim1)\n",
    "            #qdim2 = qdim2 / np.linalg.norm(qdim2)\n",
    "        else:\n",
    "            raise ValueError(\"The selected symmetry path contains a segment which is greater than 3 dimensions\") \n",
    "    else:\n",
    "        # if perp to path isn't wanted, do it based on which 2 hkl are most perp (i.e. least para) to dim0\n",
    "        para_scores = calc_para_scores(qdim0)\n",
    "        # want two directions most perpen to qdim0 to be qdim1 and qdim2\n",
    "        qdim1_ind = np.argmin(para_scores)\n",
    "        qdim1 = hkl[qdim1_ind]\n",
    "        # set qdim1 as highest so it won't be chosen for qdim2\n",
    "        para_scores[qdim1_ind] = 2\n",
    "        qdim2_ind = np.argmin(para_scores)\n",
    "        qdim2 = hkl[qdim2_ind]\n",
    "    return qdim1, qdim2\n",
    "\n",
    "\n",
    "def find_qbins_1and2(qdim0, qdim1, qdim2, pt1, pt2):\n",
    "    # we start with bins of 0 so hopefully can catch it if code isn't working\n",
    "    qdim1_range = 0\n",
    "    qdim2_range = 0 \n",
    "\n",
    "    # if any h,k,l of both points on the segment is not 0 but that same h,k,l of qdim0\n",
    "    # is 0, then we need some offset in bins for qdim 1/2. E.g. for X>M qdim0=[1,0,0] but\n",
    "    # both X ([0,0.5,0])and M ([0.5,0.5,0]) have nonzero k=0.5. Thus we need offset in bins \n",
    "    # (in this case qdim1=[0,1,0] so nonzero offset in qbin1) \n",
    "    qdim0_zeroInds = np.where(qdim0 == 0)[0]\n",
    "    if len(qdim0_zeroInds) == 0:\n",
    "        # the default qdim1 and 2 bin range about 0\n",
    "        qdim1_range = np.array([-0.15,0.15])\n",
    "        qdim2_range = np.array([-0.15,0.15]) \n",
    "        return qdim1_range, qdim2_range\n",
    "    \n",
    "    needed_offset = np.zeros((3,1))\n",
    "    nonzero_hkl = []\n",
    "    for ind in qdim0_zeroInds:\n",
    "        if (pt1[ind] != 0) and (pt2[ind] != 0):\n",
    "            needed_offset[ind]=pt1[ind]\n",
    "            nonzero_hkl.append(ind)\n",
    "    \n",
    "    if not np.any(needed_offset):\n",
    "        #print(\"No offset is needed\")\n",
    "        qdim1_range = np.array([-0.15,0.15])\n",
    "        qdim2_range = np.array([-0.15,0.15])\n",
    "        return qdim1_range, qdim2_range\n",
    "        \n",
    "    # MIGHT NOT WORK FOR KEEPING 2 CONST... NEED TO CHECK e.g. M>R\n",
    "    for ind in nonzero_hkl: # can prob get rid of this and just put nonzero_hkl wherever ind is\n",
    "        if qdim1[ind] != 0:\n",
    "            qdim_coeff_for_bin1 = needed_offset[ind] / qdim1[ind]\n",
    "            qdim1_range = np.array([0.7,1.3]) * qdim_coeff_for_bin1\n",
    "            qdim2_range = np.array([-0.15,0.15])\n",
    "        elif qdim2[ind] != 0:\n",
    "            qdim_coeff_for_bin2 = needed_offset[ind] / qdim2[ind]\n",
    "            qdim2_range = np.array([0.7,1.3]) * qdim_coeff_for_bin2\n",
    "            qdim1_range = np.array([-0.15,0.15])\n",
    "  \n",
    "    return qdim1_range, qdim2_range\n",
    "\n",
    "\n",
    "def find_qdim0_range(qdim0, qdim1, qdim2, qdim1_range, qdim2_range, pt1, pt2):\n",
    "    # calculating default QDimension0 range and bin size\n",
    "    # bounds chosen to cover first BZ and bin width is from most mantid examples\n",
    "    def_range = np.array([0,0.025,0.5])\n",
    "\n",
    "    if check_bin0_and_path_endpoints(qdim0, qdim1, qdim2, qdim1_range, qdim2_range, pt1, pt2, bin_range=def_range):\n",
    "        return def_range\n",
    "    else:\n",
    "        rev_range = def_range[::-1] \n",
    "        rev_range[0] = -rev_range[0]\n",
    "        if check_bin0_and_path_endpoints(qdim0, qdim1, qdim2, qdim1_range, qdim2_range, pt1, pt2, bin_range=rev_range):\n",
    "            return rev_range\n",
    "        else:\n",
    "            return 0\n",
    "        \n",
    "    # scaling may not be necessary now since normalizing qdim0... later make width in A-1 and equal to instrument resolution\n",
    "    # current method of fixed fraction step of BZ will break for larger unit cells (smaller BZ in A-1)\n",
    "    #minDiffNonZero = np.min(np.absolute(qdim0[np.nonzero(qdim0)[0]]))\n",
    "    # scaler makes sure resolution stays normal with weird qdim0\n",
    "    #scaler = 1/minDiffNonZero\n",
    "    #qdim0_range = def_range*scaler\n",
    "    #return def_range\n",
    "\n",
    "def check_bin0_and_path_endpoints(qdim0, qdim1, qdim2, qdim1_range, qdim2_range, pt1, pt2, bin_range):\n",
    "    pt1_check = np.all(((bin_range[0]*qdim0 + np.mean(qdim1_range)*qdim1 + np.mean(qdim2_range)*qdim2) == pt1))\n",
    "    pt2_check = np.all(((bin_range[2]*qdim0 + np.mean(qdim1_range)*qdim1 + np.mean(qdim2_range)*qdim2) == pt2))\n",
    "    #print(pt1_check, pt2_check)\n",
    "    return pt1_check and pt2_check\n"
   ]
  },
  {
   "cell_type": "markdown",
   "metadata": {},
   "source": [
    "tests"
   ]
  },
  {
   "cell_type": "code",
   "execution_count": 133,
   "metadata": {
    "execution": {
     "iopub.execute_input": "2023-09-29T18:33:55.030831Z",
     "iopub.status.busy": "2023-09-29T18:33:55.030499Z",
     "iopub.status.idle": "2023-09-29T18:33:55.035098Z",
     "shell.execute_reply": "2023-09-29T18:33:55.034716Z",
     "shell.execute_reply.started": "2023-09-29T18:33:55.030816Z"
    },
    "tags": []
   },
   "outputs": [
    {
     "name": "stdout",
     "output_type": "stream",
     "text": [
      "[ 0.75  0.   -0.6 ] [-0.  1.  0.]\n",
      "[0 1 0] [1 0 0]\n",
      "\n",
      "test2:\n",
      "[ 0.5 -0.5  0. ] [ 0.  0. -1.]\n"
     ]
    }
   ],
   "source": [
    "qdim0 = np.array([0.6,0,0.75])\n",
    "qdim1,qdim2 = find_qdim_1and2(qdim0, perp_to_path=True)\n",
    "print(qdim1,qdim2)\n",
    "\n",
    "qdim0 = np.array([0.6,0,0.75])\n",
    "qdim1,qdim2 = find_qdim_1and2(qdim0, perp_to_path=False)\n",
    "print(qdim1,qdim2)\n",
    "\n",
    "print(\"\\ntest2:\")\n",
    "qdim0 = np.array([0.5,0.5,0])\n",
    "qdim1,qdim2 = find_qdim_1and2(qdim0, perp_to_path=True)\n",
    "print(qdim1,qdim2)"
   ]
  },
  {
   "cell_type": "markdown",
   "metadata": {},
   "source": [
    "dev"
   ]
  },
  {
   "cell_type": "code",
   "execution_count": 134,
   "metadata": {
    "execution": {
     "iopub.execute_input": "2023-09-29T18:33:55.732197Z",
     "iopub.status.busy": "2023-09-29T18:33:55.731998Z",
     "iopub.status.idle": "2023-09-29T18:33:55.736920Z",
     "shell.execute_reply": "2023-09-29T18:33:55.736540Z",
     "shell.execute_reply.started": "2023-09-29T18:33:55.732182Z"
    },
    "tags": []
   },
   "outputs": [
    {
     "name": "stdout",
     "output_type": "stream",
     "text": [
      "[]\n",
      "[0 1 2]\n",
      "[0.5 0.5 0.5]\n",
      "[-0.70710678  0.70710678  0.        ]\n",
      "[-0.40824829 -0.40824829  0.81649658]\n"
     ]
    }
   ],
   "source": [
    "#qdim0tst = np.array([0.25,0.75,0.5])\n",
    "qdim0tst = np.array([0.5,0.5,0.5])\n",
    "#qdim0tst = np.array([1,0,0])\n",
    "hkl = np.array([[1,0,0],[0,1,0],[0,0,1]])\n",
    "zeroInds = np.where(qdim0tst == 0)[0]\n",
    "nzeroInds = np.nonzero(qdim0tst)[0]\n",
    "print(zeroInds)\n",
    "print(nzeroInds)\n",
    "qdim1tst = qdim0tst.copy()\n",
    "qdim1tst[nzeroInds[0]], qdim1tst[nzeroInds[1]] = -qdim0tst[nzeroInds[1]], qdim0tst[nzeroInds[0]]\n",
    "if np.count_nonzero(qdim0tst) == 3:\n",
    "    qdim1tst[2] = 0 \n",
    "qdim2tst = np.cross(qdim0tst, qdim1tst)\n",
    "qdim1tst = qdim1tst / np.linalg.norm(qdim1tst)\n",
    "qdim2tst = qdim2tst / np.linalg.norm(qdim2tst)\n",
    "print(qdim0tst)\n",
    "print(qdim1tst)\n",
    "print(qdim2tst)"
   ]
  },
  {
   "cell_type": "markdown",
   "metadata": {},
   "source": [
    "driver function for dim and bin selection"
   ]
  },
  {
   "cell_type": "code",
   "execution_count": 5,
   "metadata": {
    "execution": {
     "iopub.execute_input": "2023-10-27T15:58:16.380995Z",
     "iopub.status.busy": "2023-10-27T15:58:16.380735Z",
     "iopub.status.idle": "2023-10-27T15:58:16.385263Z",
     "shell.execute_reply": "2023-10-27T15:58:16.384864Z",
     "shell.execute_reply.started": "2023-10-27T15:58:16.380979Z"
    },
    "tags": []
   },
   "outputs": [],
   "source": [
    "def choose_dims_and_bins(path_segment, point_coords, perp_to_path=False):\n",
    "    \n",
    "    pt1 = np.array(point_coords[path_segment[0]])\n",
    "    pt2 = np.array(point_coords[path_segment[1]])\n",
    "    diff = pt2 - pt1\n",
    "\n",
    "    # calculating default QDimension0 axis direction and scaling\n",
    "    qdim0 = diff / np.max(np.absolute(diff))\n",
    "\n",
    "    # determine the directions of qdim1 and qdim2\n",
    "    qdim1, qdim2 = find_qdim_1and2(qdim0,perp_to_path)\n",
    "    qdim1_range, qdim2_range = find_qbins_1and2(qdim0, qdim1, qdim2, pt1, pt2)\n",
    "\n",
    "    # calculating default QDimension0  bin range and bin size\n",
    "    qdim0_range = find_qdim0_range(qdim0, qdim1, qdim2, qdim1_range, qdim2_range, pt1, pt2)\n",
    "\n",
    "    # return list contains various types (mainly np arrays) that are converted to properly formatted strings\n",
    "    # as a part of the slice description generation process\n",
    "    q_dims_and_bins = [qdim0, qdim1, qdim2, qdim0_range, qdim1_range, qdim2_range]\n",
    "    return q_dims_and_bins\n"
   ]
  },
  {
   "cell_type": "markdown",
   "metadata": {},
   "source": [
    "driver test"
   ]
  },
  {
   "cell_type": "code",
   "execution_count": 136,
   "metadata": {
    "execution": {
     "iopub.execute_input": "2023-09-29T18:33:56.967820Z",
     "iopub.status.busy": "2023-09-29T18:33:56.967492Z",
     "iopub.status.idle": "2023-09-29T18:33:56.971582Z",
     "shell.execute_reply": "2023-09-29T18:33:56.971195Z",
     "shell.execute_reply.started": "2023-09-29T18:33:56.967805Z"
    },
    "tags": []
   },
   "outputs": [
    {
     "name": "stdout",
     "output_type": "stream",
     "text": [
      "('GAMMA', 'X')\n",
      "{'GAMMA': [0.0, 0.0, 0.0], 'R': [0.5, 0.5, 0.5], 'M': [0.5, 0.5, 0.0], 'X': [0.0, 0.5, 0.0], 'X_1': [0.5, 0.0, 0.0]}\n",
      "cP\n",
      "[0. 0. 3.] [0.  0.5 3. ] [0.  0.5 0. ]\n",
      "[array([0., 1., 0.]), array([1, 0, 0]), array([0, 0, 1]), array([0.   , 0.025, 0.5  ]), array([-0.15,  0.15]), array([2.1, 3.9])]\n"
     ]
    }
   ],
   "source": [
    "path_seg = path['path'][0]\n",
    "point_cord = path['point_coords']\n",
    "path_brav = path['bravais_lattice']\n",
    "print(path_seg)\n",
    "print(point_cord)\n",
    "print(path_brav)\n",
    "\n",
    "q_dims_and_bins = choose_dims_and_bins(path_seg,point_cord,perp_to_path=True) \n",
    "print(q_dims_and_bins)"
   ]
  },
  {
   "cell_type": "code",
   "execution_count": 137,
   "metadata": {
    "execution": {
     "iopub.execute_input": "2023-09-29T18:33:57.536102Z",
     "iopub.status.busy": "2023-09-29T18:33:57.535897Z",
     "iopub.status.idle": "2023-09-29T18:33:57.544058Z",
     "shell.execute_reply": "2023-09-29T18:33:57.543669Z",
     "shell.execute_reply.started": "2023-09-29T18:33:57.536088Z"
    },
    "tags": []
   },
   "outputs": [
    {
     "name": "stdout",
     "output_type": "stream",
     "text": [
      "on path seg 0\n",
      "[0. 0. 3.] [0.  0.5 3. ] [0.  0.5 0. ]\n",
      "on path seg 1\n",
      "[0.  0.5 3. ] [0.5 0.5 3. ] [0.5 0.  0. ]\n",
      "on path seg 2\n",
      "[0.5 0.5 3. ] [0. 0. 3.] [-0.5 -0.5  0. ]\n",
      "on path seg 3\n",
      "[0. 0. 3.] [0.5 0.5 3.5] [0.5 0.5 0.5]\n",
      "on path seg 4\n",
      "[0.5 0.5 3.5] [0.  0.5 3. ] [-0.5  0.  -0.5]\n"
     ]
    }
   ],
   "source": [
    "poscar = simple_read_poscar('files_for_nb/POSCAR')\n",
    "path = seekpath.get_path(structure=poscar)\n",
    "\n",
    "dims_and_bins_list=[]\n",
    "for i in range(5): #range(len(path['path'])):\n",
    "    print(\"on path seg {}\".format(i))\n",
    "    path_seg = path['path'][i]\n",
    "    q_dims_and_bins = choose_dims_and_bins(path_seg,path['point_coords'],perp_to_path=True)\n",
    "    dims_and_bins_list.append(q_dims_and_bins)"
   ]
  },
  {
   "cell_type": "code",
   "execution_count": 138,
   "metadata": {
    "execution": {
     "iopub.execute_input": "2023-09-29T18:33:58.079746Z",
     "iopub.status.busy": "2023-09-29T18:33:58.079542Z",
     "iopub.status.idle": "2023-09-29T18:33:58.084236Z",
     "shell.execute_reply": "2023-09-29T18:33:58.083854Z",
     "shell.execute_reply.started": "2023-09-29T18:33:58.079732Z"
    },
    "tags": []
   },
   "outputs": [
    {
     "name": "stdout",
     "output_type": "stream",
     "text": [
      "\n",
      "path segment 0 from GAMMA to X\n",
      "[array([0., 1., 0.]), array([1, 0, 0]), array([0, 0, 1]), array([0.   , 0.025, 0.5  ]), array([-0.15,  0.15]), array([2.1, 3.9])]\n",
      "\n",
      "path segment 1 from X to M\n",
      "[array([1., 0., 0.]), array([0, 1, 0]), array([0, 0, 1]), 0, array([-0.15,  0.15]), array([2.1, 3.9])]\n",
      "\n",
      "path segment 2 from M to GAMMA\n",
      "[array([-1., -1.,  0.]), array([-1.,  1.,  0.]), array([-0.,  0., -1.]), array([-0.5  ,  0.025,  0.   ]), array([-0.15,  0.15]), array([-2.1, -3.9])]\n",
      "\n",
      "path segment 3 from GAMMA to R\n",
      "[array([1., 1., 1.]), array([ 1., -1.,  0.]), array([ 0.5,  0.5, -1. ]), 0, array([-0.15,  0.15]), array([-0.15,  0.15])]\n",
      "\n",
      "path segment 4 from R to X\n",
      "[array([-1.,  0., -1.]), array([-1.,  0.,  1.]), array([0., 1., 0.]), 0, array([-0.15,  0.15]), array([0.35, 0.65])]\n"
     ]
    }
   ],
   "source": [
    "for i in range(5):\n",
    "    print(\"\\npath segment {} from {} to {}\".format(i, path['path'][i][0], path['path'][i][1]))\n",
    "    print(dims_and_bins_list[i])"
   ]
  },
  {
   "cell_type": "markdown",
   "metadata": {},
   "source": [
    "# making slice descriptions"
   ]
  },
  {
   "cell_type": "code",
   "execution_count": 139,
   "metadata": {
    "execution": {
     "iopub.execute_input": "2023-09-29T18:33:59.411701Z",
     "iopub.status.busy": "2023-09-29T18:33:59.411355Z",
     "iopub.status.idle": "2023-09-29T18:33:59.414807Z",
     "shell.execute_reply": "2023-09-29T18:33:59.414356Z",
     "shell.execute_reply.started": "2023-09-29T18:33:59.411679Z"
    },
    "tags": []
   },
   "outputs": [],
   "source": [
    "test_slice={'QDimension0':'1,1,0',\n",
    "            'QDimension1':'-1,1,0',\n",
    "            'QDimension2':'0,0,1',\n",
    "            'Dimension0Name':'QDimension0',\n",
    "            'Dimension0Binning':'3.85,4.15',\n",
    "            'Dimension1Name':'QDimension1',\n",
    "            'Dimension1Binning':'-0.15,0.15',\n",
    "            'Dimension2Name':'QDimension2',\n",
    "            'Dimension2Binning':'-7.3625,0.025,8.4875',\n",
    "            'Dimension3Name':'DeltaE',\n",
    "            'Dimension3Binning':'-35.5,1,66.5',\n",
    "            'SymmetryOperations':'x,y,z'}"
   ]
  },
  {
   "cell_type": "code",
   "execution_count": 6,
   "metadata": {
    "execution": {
     "iopub.execute_input": "2023-10-27T15:58:22.381439Z",
     "iopub.status.busy": "2023-10-27T15:58:22.381067Z",
     "iopub.status.idle": "2023-10-27T15:58:22.384479Z",
     "shell.execute_reply": "2023-10-27T15:58:22.384030Z",
     "shell.execute_reply.started": "2023-10-27T15:58:22.381415Z"
    },
    "tags": []
   },
   "outputs": [],
   "source": [
    "def conv_to_desc_string(input_item):\n",
    "    # works for np arrays, lists, and tuples\n",
    "    string = ''\n",
    "    for item in input_item:\n",
    "        string = string + str(item) +','\n",
    "    string = string[:-1]\n",
    "    return string"
   ]
  },
  {
   "cell_type": "code",
   "execution_count": 141,
   "metadata": {
    "execution": {
     "iopub.execute_input": "2023-09-29T18:34:01.002455Z",
     "iopub.status.busy": "2023-09-29T18:34:01.001992Z",
     "iopub.status.idle": "2023-09-29T18:34:01.006175Z",
     "shell.execute_reply": "2023-09-29T18:34:01.005761Z",
     "shell.execute_reply.started": "2023-09-29T18:34:01.002437Z"
    },
    "tags": []
   },
   "outputs": [
    {
     "name": "stdout",
     "output_type": "stream",
     "text": [
      "1,1,0\n",
      "1,1,0\n",
      "True\n",
      "1,1,0\n",
      "True\n",
      "1,1,0\n",
      "True\n"
     ]
    }
   ],
   "source": [
    "print(test_slice['QDimension0'])\n",
    "qdim2= 1,1,0\n",
    "tst_str = conv_to_desc_string(qdim2)\n",
    "print(tst_str)\n",
    "print(test_slice['QDimension0'] == tst_str)\n",
    "\n",
    "dim3= [1,1,0]\n",
    "tst_str2 = conv_to_desc_string(dim3)\n",
    "print(tst_str2)\n",
    "print(test_slice['QDimension0'] == tst_str2)\n",
    "\n",
    "dim4= np.array([1,1,0])\n",
    "tst_str4 = conv_to_desc_string(dim4)\n",
    "print(tst_str4)\n",
    "print(test_slice['QDimension0'] == tst_str4)"
   ]
  },
  {
   "cell_type": "markdown",
   "metadata": {},
   "source": [
    "replacing dim in slice desc dict with the converted one"
   ]
  },
  {
   "cell_type": "code",
   "execution_count": 142,
   "metadata": {
    "execution": {
     "iopub.execute_input": "2023-09-29T18:34:02.489857Z",
     "iopub.status.busy": "2023-09-29T18:34:02.489539Z",
     "iopub.status.idle": "2023-09-29T18:34:02.493268Z",
     "shell.execute_reply": "2023-09-29T18:34:02.492841Z",
     "shell.execute_reply.started": "2023-09-29T18:34:02.489839Z"
    },
    "tags": []
   },
   "outputs": [
    {
     "name": "stdout",
     "output_type": "stream",
     "text": [
      "1,1,0\n",
      "1,2,0\n",
      "1,2,0\n"
     ]
    }
   ],
   "source": [
    "print(test_slice['QDimension0'])\n",
    "dim3= [1,2,0]\n",
    "tst_str2 = conv_to_desc_string(dim3)\n",
    "print(tst_str2)\n",
    "test_slice['QDimension0'] = tst_str2\n",
    "print(test_slice['QDimension0'])"
   ]
  },
  {
   "cell_type": "markdown",
   "metadata": {},
   "source": [
    "function to make slice description"
   ]
  },
  {
   "cell_type": "code",
   "execution_count": 7,
   "metadata": {
    "execution": {
     "iopub.execute_input": "2023-10-27T15:58:29.315810Z",
     "iopub.status.busy": "2023-10-27T15:58:29.315451Z",
     "iopub.status.idle": "2023-10-27T15:58:29.319737Z",
     "shell.execute_reply": "2023-10-27T15:58:29.319322Z",
     "shell.execute_reply.started": "2023-10-27T15:58:29.315790Z"
    },
    "tags": []
   },
   "outputs": [],
   "source": [
    "def make_slice_desc(q_dims_and_bins, path_seg):\n",
    "    \n",
    "    print(q_dims_and_bins[3])\n",
    "    # slice description with desired dims and bins and unique name\n",
    "    slice_desc={'QDimension0':conv_to_desc_string(q_dims_and_bins[0]),\n",
    "                'QDimension1':conv_to_desc_string(q_dims_and_bins[1]),\n",
    "                'QDimension2':conv_to_desc_string(q_dims_and_bins[2]),\n",
    "                'Dimension0Name':'QDimension0',\n",
    "                'Dimension0Binning':conv_to_desc_string(q_dims_and_bins[3]),\n",
    "                'Dimension1Name':'QDimension1',\n",
    "                'Dimension1Binning':conv_to_desc_string(q_dims_and_bins[4]),\n",
    "                'Dimension2Name':'QDimension2',\n",
    "                'Dimension2Binning':conv_to_desc_string(q_dims_and_bins[5]),\n",
    "                'Dimension3Name':'DeltaE',\n",
    "                'Dimension3Binning':'-35.5,1,66.5',\n",
    "                'SymmetryOperations':'x,y,z',\n",
    "                'Name':'pathSQE_'+path_seg[0]+'_to_'+path_seg[1]}\n",
    "\n",
    "    return slice_desc\n"
   ]
  },
  {
   "cell_type": "markdown",
   "metadata": {},
   "source": [
    "test"
   ]
  },
  {
   "cell_type": "code",
   "execution_count": 146,
   "metadata": {
    "execution": {
     "iopub.execute_input": "2023-09-29T18:34:59.685472Z",
     "iopub.status.busy": "2023-09-29T18:34:59.684955Z",
     "iopub.status.idle": "2023-09-29T18:34:59.716062Z",
     "shell.execute_reply": "2023-09-29T18:34:59.715499Z",
     "shell.execute_reply.started": "2023-09-29T18:34:59.685453Z"
    },
    "tags": []
   },
   "outputs": [
    {
     "name": "stdout",
     "output_type": "stream",
     "text": [
      "0\n"
     ]
    },
    {
     "ename": "TypeError",
     "evalue": "'int' object is not iterable",
     "output_type": "error",
     "traceback": [
      "\u001b[0;31m---------------------------------------------------------------------------\u001b[0m",
      "\u001b[0;31mTypeError\u001b[0m                                 Traceback (most recent call last)",
      "Cell \u001b[0;32mIn[146], line 1\u001b[0m\n\u001b[0;32m----> 1\u001b[0m exSlice \u001b[38;5;241m=\u001b[39m \u001b[43mmake_slice_desc\u001b[49m\u001b[43m(\u001b[49m\u001b[43mq_dims_and_bins\u001b[49m\u001b[43m,\u001b[49m\u001b[43m \u001b[49m\u001b[43m(\u001b[49m\u001b[38;5;124;43m'\u001b[39;49m\u001b[38;5;124;43mpt1\u001b[39;49m\u001b[38;5;124;43m'\u001b[39;49m\u001b[43m,\u001b[49m\u001b[38;5;124;43m'\u001b[39;49m\u001b[38;5;124;43mpt2\u001b[39;49m\u001b[38;5;124;43m'\u001b[39;49m\u001b[43m)\u001b[49m\u001b[43m)\u001b[49m\n\u001b[1;32m      2\u001b[0m \u001b[38;5;28mprint\u001b[39m(exSlice)\n",
      "Cell \u001b[0;32mIn[145], line 9\u001b[0m, in \u001b[0;36mmake_slice_desc\u001b[0;34m(q_dims_and_bins, path_seg)\u001b[0m\n\u001b[1;32m      3\u001b[0m \u001b[38;5;28mprint\u001b[39m(q_dims_and_bins[\u001b[38;5;241m3\u001b[39m])\n\u001b[1;32m      4\u001b[0m \u001b[38;5;66;03m# slice description with desired dims and bins and unique name\u001b[39;00m\n\u001b[1;32m      5\u001b[0m slice_desc\u001b[38;5;241m=\u001b[39m{\u001b[38;5;124m'\u001b[39m\u001b[38;5;124mQDimension0\u001b[39m\u001b[38;5;124m'\u001b[39m:conv_to_desc_string(q_dims_and_bins[\u001b[38;5;241m0\u001b[39m]),\n\u001b[1;32m      6\u001b[0m             \u001b[38;5;124m'\u001b[39m\u001b[38;5;124mQDimension1\u001b[39m\u001b[38;5;124m'\u001b[39m:conv_to_desc_string(q_dims_and_bins[\u001b[38;5;241m1\u001b[39m]),\n\u001b[1;32m      7\u001b[0m             \u001b[38;5;124m'\u001b[39m\u001b[38;5;124mQDimension2\u001b[39m\u001b[38;5;124m'\u001b[39m:conv_to_desc_string(q_dims_and_bins[\u001b[38;5;241m2\u001b[39m]),\n\u001b[1;32m      8\u001b[0m             \u001b[38;5;124m'\u001b[39m\u001b[38;5;124mDimension0Name\u001b[39m\u001b[38;5;124m'\u001b[39m:\u001b[38;5;124m'\u001b[39m\u001b[38;5;124mQDimension0\u001b[39m\u001b[38;5;124m'\u001b[39m,\n\u001b[0;32m----> 9\u001b[0m             \u001b[38;5;124m'\u001b[39m\u001b[38;5;124mDimension0Binning\u001b[39m\u001b[38;5;124m'\u001b[39m:\u001b[43mconv_to_desc_string\u001b[49m\u001b[43m(\u001b[49m\u001b[43mq_dims_and_bins\u001b[49m\u001b[43m[\u001b[49m\u001b[38;5;241;43m3\u001b[39;49m\u001b[43m]\u001b[49m\u001b[43m)\u001b[49m,\n\u001b[1;32m     10\u001b[0m             \u001b[38;5;124m'\u001b[39m\u001b[38;5;124mDimension1Name\u001b[39m\u001b[38;5;124m'\u001b[39m:\u001b[38;5;124m'\u001b[39m\u001b[38;5;124mQDimension1\u001b[39m\u001b[38;5;124m'\u001b[39m,\n\u001b[1;32m     11\u001b[0m             \u001b[38;5;124m'\u001b[39m\u001b[38;5;124mDimension1Binning\u001b[39m\u001b[38;5;124m'\u001b[39m:conv_to_desc_string(q_dims_and_bins[\u001b[38;5;241m4\u001b[39m]),\n\u001b[1;32m     12\u001b[0m             \u001b[38;5;124m'\u001b[39m\u001b[38;5;124mDimension2Name\u001b[39m\u001b[38;5;124m'\u001b[39m:\u001b[38;5;124m'\u001b[39m\u001b[38;5;124mQDimension2\u001b[39m\u001b[38;5;124m'\u001b[39m,\n\u001b[1;32m     13\u001b[0m             \u001b[38;5;124m'\u001b[39m\u001b[38;5;124mDimension2Binning\u001b[39m\u001b[38;5;124m'\u001b[39m:conv_to_desc_string(q_dims_and_bins[\u001b[38;5;241m5\u001b[39m]),\n\u001b[1;32m     14\u001b[0m             \u001b[38;5;124m'\u001b[39m\u001b[38;5;124mDimension3Name\u001b[39m\u001b[38;5;124m'\u001b[39m:\u001b[38;5;124m'\u001b[39m\u001b[38;5;124mDeltaE\u001b[39m\u001b[38;5;124m'\u001b[39m,\n\u001b[1;32m     15\u001b[0m             \u001b[38;5;124m'\u001b[39m\u001b[38;5;124mDimension3Binning\u001b[39m\u001b[38;5;124m'\u001b[39m:\u001b[38;5;124m'\u001b[39m\u001b[38;5;124m-35.5,1,66.5\u001b[39m\u001b[38;5;124m'\u001b[39m,\n\u001b[1;32m     16\u001b[0m             \u001b[38;5;124m'\u001b[39m\u001b[38;5;124mSymmetryOperations\u001b[39m\u001b[38;5;124m'\u001b[39m:\u001b[38;5;124m'\u001b[39m\u001b[38;5;124mx,y,z\u001b[39m\u001b[38;5;124m'\u001b[39m,\n\u001b[1;32m     17\u001b[0m             \u001b[38;5;124m'\u001b[39m\u001b[38;5;124mName\u001b[39m\u001b[38;5;124m'\u001b[39m:\u001b[38;5;124m'\u001b[39m\u001b[38;5;124mpathSQE_\u001b[39m\u001b[38;5;124m'\u001b[39m\u001b[38;5;241m+\u001b[39mpath_seg[\u001b[38;5;241m0\u001b[39m]\u001b[38;5;241m+\u001b[39m\u001b[38;5;124m'\u001b[39m\u001b[38;5;124m_to_\u001b[39m\u001b[38;5;124m'\u001b[39m\u001b[38;5;241m+\u001b[39mpath_seg[\u001b[38;5;241m1\u001b[39m]}\n\u001b[1;32m     19\u001b[0m \u001b[38;5;28;01mreturn\u001b[39;00m slice_desc\n",
      "Cell \u001b[0;32mIn[140], line 4\u001b[0m, in \u001b[0;36mconv_to_desc_string\u001b[0;34m(input_item)\u001b[0m\n\u001b[1;32m      1\u001b[0m \u001b[38;5;28;01mdef\u001b[39;00m \u001b[38;5;21mconv_to_desc_string\u001b[39m(input_item):\n\u001b[1;32m      2\u001b[0m     \u001b[38;5;66;03m# works for np arrays, lists, and tuples\u001b[39;00m\n\u001b[1;32m      3\u001b[0m     string \u001b[38;5;241m=\u001b[39m \u001b[38;5;124m'\u001b[39m\u001b[38;5;124m'\u001b[39m\n\u001b[0;32m----> 4\u001b[0m     \u001b[38;5;28;01mfor\u001b[39;00m item \u001b[38;5;129;01min\u001b[39;00m input_item:\n\u001b[1;32m      5\u001b[0m         string \u001b[38;5;241m=\u001b[39m string \u001b[38;5;241m+\u001b[39m \u001b[38;5;28mstr\u001b[39m(item) \u001b[38;5;241m+\u001b[39m\u001b[38;5;124m'\u001b[39m\u001b[38;5;124m,\u001b[39m\u001b[38;5;124m'\u001b[39m\n\u001b[1;32m      6\u001b[0m     string \u001b[38;5;241m=\u001b[39m string[:\u001b[38;5;241m-\u001b[39m\u001b[38;5;241m1\u001b[39m]\n",
      "\u001b[0;31mTypeError\u001b[0m: 'int' object is not iterable"
     ]
    }
   ],
   "source": [
    "exSlice = make_slice_desc(q_dims_and_bins, ('pt1','pt2'))\n",
    "print(exSlice)"
   ]
  },
  {
   "cell_type": "markdown",
   "metadata": {},
   "source": [
    "# combine whole process and make all slices descriptions at once"
   ]
  },
  {
   "cell_type": "code",
   "execution_count": 147,
   "metadata": {
    "execution": {
     "iopub.execute_input": "2023-09-29T18:35:04.258493Z",
     "iopub.status.busy": "2023-09-29T18:35:04.258155Z",
     "iopub.status.idle": "2023-09-29T18:35:04.293682Z",
     "shell.execute_reply": "2023-09-29T18:35:04.293105Z",
     "shell.execute_reply.started": "2023-09-29T18:35:04.258473Z"
    },
    "tags": []
   },
   "outputs": [
    {
     "name": "stdout",
     "output_type": "stream",
     "text": [
      "[0. 0. 3.] [0.  0.5 3. ] [0.  0.5 0. ]\n",
      "[0.    0.025 0.5  ]\n",
      "[0.  0.5 3. ] [0.5 0.5 3. ] [0.5 0.  0. ]\n",
      "0\n"
     ]
    },
    {
     "ename": "TypeError",
     "evalue": "'int' object is not iterable",
     "output_type": "error",
     "traceback": [
      "\u001b[0;31m---------------------------------------------------------------------------\u001b[0m",
      "\u001b[0;31mTypeError\u001b[0m                                 Traceback (most recent call last)",
      "Cell \u001b[0;32mIn[147], line 11\u001b[0m\n\u001b[1;32m      9\u001b[0m     \u001b[38;5;66;03m#print(path_seg)\u001b[39;00m\n\u001b[1;32m     10\u001b[0m     q_dims_and_bins \u001b[38;5;241m=\u001b[39m choose_dims_and_bins(path_seg,path[\u001b[38;5;124m'\u001b[39m\u001b[38;5;124mpoint_coords\u001b[39m\u001b[38;5;124m'\u001b[39m],perp_to_path\u001b[38;5;241m=\u001b[39m\u001b[38;5;28;01mTrue\u001b[39;00m)\n\u001b[0;32m---> 11\u001b[0m     slice_desc \u001b[38;5;241m=\u001b[39m \u001b[43mmake_slice_desc\u001b[49m\u001b[43m(\u001b[49m\u001b[43mq_dims_and_bins\u001b[49m\u001b[43m,\u001b[49m\u001b[43m \u001b[49m\u001b[43mpath_seg\u001b[49m\u001b[43m)\u001b[49m\n\u001b[1;32m     12\u001b[0m     dsl\u001b[38;5;241m.\u001b[39mappend(slice_desc)\n\u001b[1;32m     14\u001b[0m \u001b[38;5;28mprint\u001b[39m(dsl)\n",
      "Cell \u001b[0;32mIn[145], line 9\u001b[0m, in \u001b[0;36mmake_slice_desc\u001b[0;34m(q_dims_and_bins, path_seg)\u001b[0m\n\u001b[1;32m      3\u001b[0m \u001b[38;5;28mprint\u001b[39m(q_dims_and_bins[\u001b[38;5;241m3\u001b[39m])\n\u001b[1;32m      4\u001b[0m \u001b[38;5;66;03m# slice description with desired dims and bins and unique name\u001b[39;00m\n\u001b[1;32m      5\u001b[0m slice_desc\u001b[38;5;241m=\u001b[39m{\u001b[38;5;124m'\u001b[39m\u001b[38;5;124mQDimension0\u001b[39m\u001b[38;5;124m'\u001b[39m:conv_to_desc_string(q_dims_and_bins[\u001b[38;5;241m0\u001b[39m]),\n\u001b[1;32m      6\u001b[0m             \u001b[38;5;124m'\u001b[39m\u001b[38;5;124mQDimension1\u001b[39m\u001b[38;5;124m'\u001b[39m:conv_to_desc_string(q_dims_and_bins[\u001b[38;5;241m1\u001b[39m]),\n\u001b[1;32m      7\u001b[0m             \u001b[38;5;124m'\u001b[39m\u001b[38;5;124mQDimension2\u001b[39m\u001b[38;5;124m'\u001b[39m:conv_to_desc_string(q_dims_and_bins[\u001b[38;5;241m2\u001b[39m]),\n\u001b[1;32m      8\u001b[0m             \u001b[38;5;124m'\u001b[39m\u001b[38;5;124mDimension0Name\u001b[39m\u001b[38;5;124m'\u001b[39m:\u001b[38;5;124m'\u001b[39m\u001b[38;5;124mQDimension0\u001b[39m\u001b[38;5;124m'\u001b[39m,\n\u001b[0;32m----> 9\u001b[0m             \u001b[38;5;124m'\u001b[39m\u001b[38;5;124mDimension0Binning\u001b[39m\u001b[38;5;124m'\u001b[39m:\u001b[43mconv_to_desc_string\u001b[49m\u001b[43m(\u001b[49m\u001b[43mq_dims_and_bins\u001b[49m\u001b[43m[\u001b[49m\u001b[38;5;241;43m3\u001b[39;49m\u001b[43m]\u001b[49m\u001b[43m)\u001b[49m,\n\u001b[1;32m     10\u001b[0m             \u001b[38;5;124m'\u001b[39m\u001b[38;5;124mDimension1Name\u001b[39m\u001b[38;5;124m'\u001b[39m:\u001b[38;5;124m'\u001b[39m\u001b[38;5;124mQDimension1\u001b[39m\u001b[38;5;124m'\u001b[39m,\n\u001b[1;32m     11\u001b[0m             \u001b[38;5;124m'\u001b[39m\u001b[38;5;124mDimension1Binning\u001b[39m\u001b[38;5;124m'\u001b[39m:conv_to_desc_string(q_dims_and_bins[\u001b[38;5;241m4\u001b[39m]),\n\u001b[1;32m     12\u001b[0m             \u001b[38;5;124m'\u001b[39m\u001b[38;5;124mDimension2Name\u001b[39m\u001b[38;5;124m'\u001b[39m:\u001b[38;5;124m'\u001b[39m\u001b[38;5;124mQDimension2\u001b[39m\u001b[38;5;124m'\u001b[39m,\n\u001b[1;32m     13\u001b[0m             \u001b[38;5;124m'\u001b[39m\u001b[38;5;124mDimension2Binning\u001b[39m\u001b[38;5;124m'\u001b[39m:conv_to_desc_string(q_dims_and_bins[\u001b[38;5;241m5\u001b[39m]),\n\u001b[1;32m     14\u001b[0m             \u001b[38;5;124m'\u001b[39m\u001b[38;5;124mDimension3Name\u001b[39m\u001b[38;5;124m'\u001b[39m:\u001b[38;5;124m'\u001b[39m\u001b[38;5;124mDeltaE\u001b[39m\u001b[38;5;124m'\u001b[39m,\n\u001b[1;32m     15\u001b[0m             \u001b[38;5;124m'\u001b[39m\u001b[38;5;124mDimension3Binning\u001b[39m\u001b[38;5;124m'\u001b[39m:\u001b[38;5;124m'\u001b[39m\u001b[38;5;124m-35.5,1,66.5\u001b[39m\u001b[38;5;124m'\u001b[39m,\n\u001b[1;32m     16\u001b[0m             \u001b[38;5;124m'\u001b[39m\u001b[38;5;124mSymmetryOperations\u001b[39m\u001b[38;5;124m'\u001b[39m:\u001b[38;5;124m'\u001b[39m\u001b[38;5;124mx,y,z\u001b[39m\u001b[38;5;124m'\u001b[39m,\n\u001b[1;32m     17\u001b[0m             \u001b[38;5;124m'\u001b[39m\u001b[38;5;124mName\u001b[39m\u001b[38;5;124m'\u001b[39m:\u001b[38;5;124m'\u001b[39m\u001b[38;5;124mpathSQE_\u001b[39m\u001b[38;5;124m'\u001b[39m\u001b[38;5;241m+\u001b[39mpath_seg[\u001b[38;5;241m0\u001b[39m]\u001b[38;5;241m+\u001b[39m\u001b[38;5;124m'\u001b[39m\u001b[38;5;124m_to_\u001b[39m\u001b[38;5;124m'\u001b[39m\u001b[38;5;241m+\u001b[39mpath_seg[\u001b[38;5;241m1\u001b[39m]}\n\u001b[1;32m     19\u001b[0m \u001b[38;5;28;01mreturn\u001b[39;00m slice_desc\n",
      "Cell \u001b[0;32mIn[140], line 4\u001b[0m, in \u001b[0;36mconv_to_desc_string\u001b[0;34m(input_item)\u001b[0m\n\u001b[1;32m      1\u001b[0m \u001b[38;5;28;01mdef\u001b[39;00m \u001b[38;5;21mconv_to_desc_string\u001b[39m(input_item):\n\u001b[1;32m      2\u001b[0m     \u001b[38;5;66;03m# works for np arrays, lists, and tuples\u001b[39;00m\n\u001b[1;32m      3\u001b[0m     string \u001b[38;5;241m=\u001b[39m \u001b[38;5;124m'\u001b[39m\u001b[38;5;124m'\u001b[39m\n\u001b[0;32m----> 4\u001b[0m     \u001b[38;5;28;01mfor\u001b[39;00m item \u001b[38;5;129;01min\u001b[39;00m input_item:\n\u001b[1;32m      5\u001b[0m         string \u001b[38;5;241m=\u001b[39m string \u001b[38;5;241m+\u001b[39m \u001b[38;5;28mstr\u001b[39m(item) \u001b[38;5;241m+\u001b[39m\u001b[38;5;124m'\u001b[39m\u001b[38;5;124m,\u001b[39m\u001b[38;5;124m'\u001b[39m\n\u001b[1;32m      6\u001b[0m     string \u001b[38;5;241m=\u001b[39m string[:\u001b[38;5;241m-\u001b[39m\u001b[38;5;241m1\u001b[39m]\n",
      "\u001b[0;31mTypeError\u001b[0m: 'int' object is not iterable"
     ]
    }
   ],
   "source": [
    "poscar = simple_read_poscar('files_for_nb/POSCAR')\n",
    "path = seekpath.get_path(structure=poscar)\n",
    "\n",
    "dsl=[]\n",
    "# APPEARS IT MAY NOT BE ABLE TO HANDLE DISCONTINUITIES IN PATH YET (e.g. R>X then R>M (path[5]))\n",
    "for i in range(5): #range(len(path['path'])):\n",
    "    #print(\"on path seg {}\".format(i))\n",
    "    path_seg = path['path'][i]\n",
    "    #print(path_seg)\n",
    "    q_dims_and_bins = choose_dims_and_bins(path_seg,path['point_coords'],perp_to_path=True)\n",
    "    slice_desc = make_slice_desc(q_dims_and_bins, path_seg)\n",
    "    dsl.append(slice_desc)\n",
    "\n",
    "print(dsl)"
   ]
  },
  {
   "cell_type": "code",
   "execution_count": null,
   "metadata": {
    "execution": {
     "iopub.status.busy": "2023-09-29T18:33:28.052482Z",
     "iopub.status.idle": "2023-09-29T18:33:28.052742Z",
     "shell.execute_reply": "2023-09-29T18:33:28.052647Z",
     "shell.execute_reply.started": "2023-09-29T18:33:28.052637Z"
    }
   },
   "outputs": [],
   "source": [
    "#dsl = make_all_slice_descs(path_to_poscar='files_for_nb/POSCAR')\n",
    "#print(dsl)"
   ]
  },
  {
   "cell_type": "markdown",
   "metadata": {},
   "source": [
    "# take slices w/ Mantid python API"
   ]
  },
  {
   "cell_type": "code",
   "execution_count": null,
   "metadata": {
    "execution": {
     "iopub.status.busy": "2023-09-29T18:33:28.053276Z",
     "iopub.status.idle": "2023-09-29T18:33:28.053526Z",
     "shell.execute_reply": "2023-09-29T18:33:28.053432Z",
     "shell.execute_reply.started": "2023-09-29T18:33:28.053410Z"
    },
    "tags": []
   },
   "outputs": [],
   "source": [
    "imp.reload(define_data)\n",
    "\n",
    "mde_data=define_data.define_data_set()\n",
    "reduce_data_to_MDE(mde_data)\n",
    "\n",
    "for i in range(len(dsl)):\n",
    "    make_slice(mde_data[0],dsl[i], ASCII_slice_folder='', MD_slice_folder='')"
   ]
  },
  {
   "cell_type": "markdown",
   "metadata": {},
   "source": [
    "# Plotting slices"
   ]
  },
  {
   "cell_type": "code",
   "execution_count": null,
   "metadata": {
    "execution": {
     "iopub.status.busy": "2023-09-29T18:33:28.054110Z",
     "iopub.status.idle": "2023-09-29T18:33:28.054433Z",
     "shell.execute_reply": "2023-09-29T18:33:28.054333Z",
     "shell.execute_reply.started": "2023-09-29T18:33:28.054323Z"
    }
   },
   "outputs": [],
   "source": [
    "x = mtd['pathSQE_GAMMA_to_X']\n",
    "print(x.name())"
   ]
  },
  {
   "cell_type": "code",
   "execution_count": null,
   "metadata": {
    "execution": {
     "iopub.status.busy": "2023-09-29T18:33:28.054954Z",
     "iopub.status.idle": "2023-09-29T18:33:28.055289Z",
     "shell.execute_reply": "2023-09-29T18:33:28.055194Z",
     "shell.execute_reply.started": "2023-09-29T18:33:28.055184Z"
    }
   },
   "outputs": [],
   "source": [
    "fig,ax=plt.subplots(subplot_kw={'projection':'mantid'})\n",
    "plt.rcParams['figure.dpi'] = 300\n",
    "plt.rcParams['savefig.dpi'] = 300\n",
    "plt.set_cmap('viridis')\n",
    "c=plot_slice(dsl[0], ax=ax, cbar_label='Intensity')\n",
    "fig.show()    "
   ]
  },
  {
   "cell_type": "code",
   "execution_count": null,
   "metadata": {
    "execution": {
     "iopub.status.busy": "2023-09-29T18:33:28.055788Z",
     "iopub.status.idle": "2023-09-29T18:33:28.056101Z",
     "shell.execute_reply": "2023-09-29T18:33:28.056006Z",
     "shell.execute_reply.started": "2023-09-29T18:33:28.055996Z"
    }
   },
   "outputs": [],
   "source": [
    "fig,ax=plt.subplots(subplot_kw={'projection':'mantid'})\n",
    "plt.rcParams['figure.dpi'] = 300\n",
    "plt.rcParams['savefig.dpi'] = 300\n",
    "plt.set_cmap('viridis')\n",
    "slice_plot=ax.pcolormesh(mtd['pathSQE_GAMMA_to_X'])\n",
    "fig.show()"
   ]
  },
  {
   "cell_type": "code",
   "execution_count": null,
   "metadata": {
    "execution": {
     "iopub.status.busy": "2023-09-29T18:33:28.056610Z",
     "iopub.status.idle": "2023-09-29T18:33:28.056979Z",
     "shell.execute_reply": "2023-09-29T18:33:28.056884Z",
     "shell.execute_reply.started": "2023-09-29T18:33:28.056874Z"
    }
   },
   "outputs": [],
   "source": [
    "#print(len(dsl))\n",
    "#print(dsl[0].get('QDimension0'))\n",
    "#print(dsl[0].get('Dimension0Binning'))\n",
    "\n",
    "for i in range(5):\n",
    "    print(\"\\nslice number {}\".format(i))\n",
    "    print(\"QDim0: \"+dsl[i].get('QDimension0'))\n",
    "    print(\"QDim1: \"+dsl[i].get('QDimension1'))\n",
    "    print(\"QDim2: \"+dsl[i].get('QDimension2'))"
   ]
  },
  {
   "cell_type": "code",
   "execution_count": null,
   "metadata": {
    "execution": {
     "iopub.status.busy": "2023-09-29T18:33:28.057522Z",
     "iopub.status.idle": "2023-09-29T18:33:28.057819Z",
     "shell.execute_reply": "2023-09-29T18:33:28.057725Z",
     "shell.execute_reply.started": "2023-09-29T18:33:28.057715Z"
    },
    "tags": []
   },
   "outputs": [],
   "source": [
    "# https://docs.mantidproject.org/nightly/plotting/index.html#plotting \n",
    "# Manually plot the path for the FeSi data\n",
    "\n",
    "\n",
    "plt.rcParams['figure.dpi'] = 300\n",
    "plt.rcParams['savefig.dpi'] = 300\n",
    "plt.rcParams.update({'font.size': 28})\n",
    "\n",
    "fig=plt.figure(figsize=(12,5))\n",
    "\n",
    "colormesh_pars={}\n",
    "colormesh_pars['norm']=LogNorm(vmin=0.00002,vmax=0.005)\n",
    "colormesh_pars['cmap']='viridis'\n",
    "\n",
    "\n",
    "a=4.489\n",
    "m_gamma = np.sqrt(2)\n",
    "gamma_r = np.sqrt(3)\n",
    "r_x = np.sqrt(2)\n",
    "gs = GridSpec(1, 5,width_ratios=[1,1,m_gamma,gamma_r,r_x],wspace=0)\n",
    "\n",
    "\n",
    "#fig,ax=plt.subplots(subplot_kw={'projection':'mantid'})\n",
    "#slice_plot=ax.pcolormesh(mtd['pathSQE_GAMMA_to_X'])\n",
    "\n",
    "ax1 = plt.subplot(gs[0],projection='mantid')\n",
    "ax2 = plt.subplot(gs[1],sharey=ax1,projection='mantid')\n",
    "ax3 = plt.subplot(gs[2],sharey=ax1,projection='mantid')\n",
    "ax4 = plt.subplot(gs[3],sharey=ax1,projection='mantid')\n",
    "ax5 = plt.subplot(gs[4],sharey=ax1,projection='mantid')\n",
    "\n",
    "\n",
    "pcm=ax1.pcolormesh(mtd['pathSQE_GAMMA_to_X'], **colormesh_pars)\n",
    "ax2.pcolormesh(mtd['pathSQE_X_to_M'], **colormesh_pars)\n",
    "ax3.pcolormesh(mtd['pathSQE_M_to_GAMMA'],  **colormesh_pars)#cmap='viridis', norm=LogNorm(vmin=0.00005,vmax=0.005))\n",
    "ax4.pcolormesh(mtd['pathSQE_GAMMA_to_R'], **colormesh_pars) #cmap='viridis', norm=LogNorm(vmin=0.00005,vmax=0.005))\n",
    "ax5.pcolormesh(mtd['pathSQE_R_to_X'], **colormesh_pars)\n",
    "\n",
    "\n",
    "#Adjust plotting parameters\n",
    "ax1.set_ylabel('E (meV)')\n",
    "ax1.set_xlabel('')\n",
    "ax1.set_ylim(-10.,30.)\n",
    "ax1.set_yticks([0,20])\n",
    "ax1.set_xlim(0,0.5)\n",
    "ax1.set_xticks([0,0.5])\n",
    "ax1.set_xticklabels(['$\\Gamma$','$X$'])\n",
    "ax1.tick_params(direction='in')\n",
    "\n",
    "ax2.get_yaxis().set_visible(False)\n",
    "ax2.set_xlabel('')\n",
    "ax2.set_xlim(0,0.5)\n",
    "ax2.set_xticks([0.5])\n",
    "ax2.set_xticklabels(['$M$'])\n",
    "ax2.tick_params(direction='in')\n",
    "\n",
    "ax3.get_yaxis().set_visible(False)\n",
    "ax3.set_xlabel('')\n",
    "ax3.set_xlim(-0.5,0)\n",
    "ax3.set_xticks([0])\n",
    "ax3.set_xticklabels(['$\\Gamma$'])\n",
    "ax3.tick_params(direction='in')\n",
    "\n",
    "ax4.get_yaxis().set_visible(False)\n",
    "ax4.set_xlabel('')\n",
    "ax4.set_xlim(0,0.5)\n",
    "ax4.set_xticks([0.5])\n",
    "ax4.set_xticklabels(['$R$'])\n",
    "ax4.tick_params(direction='in')\n",
    "\n",
    "ax5.get_yaxis().set_visible(False)\n",
    "ax5.set_xlabel('')\n",
    "ax5.set_xlim(-0.5,0)\n",
    "ax5.set_xticks([0])\n",
    "ax5.set_xticklabels(['$X$'])\n",
    "ax5.tick_params(direction='in')\n",
    "\n",
    "fig.colorbar(pcm, ax=[ax1,ax2,ax3,ax4,ax5])\n",
    "\n",
    "#fig.show()\n",
    "#plt.close('all')"
   ]
  },
  {
   "cell_type": "code",
   "execution_count": null,
   "metadata": {
    "execution": {
     "iopub.status.busy": "2023-09-29T18:33:28.058351Z",
     "iopub.status.idle": "2023-09-29T18:33:28.058587Z",
     "shell.execute_reply": "2023-09-29T18:33:28.058493Z",
     "shell.execute_reply.started": "2023-09-29T18:33:28.058483Z"
    },
    "tags": []
   },
   "outputs": [],
   "source": [
    "# https://docs.mantidproject.org/nightly/plotting/index.html#plotting \n",
    "# Manually plot the path for the FeSi data\n",
    "def plot_along_path(dsl):\n",
    "    plt.rcParams['figure.dpi'] = 300\n",
    "    plt.rcParams['savefig.dpi'] = 300\n",
    "    plt.rcParams.update({'font.size': 28})\n",
    "\n",
    "    fig=plt.figure(figsize=(12,5))\n",
    "\n",
    "    colormesh_pars={}\n",
    "    colormesh_pars['norm']=LogNorm(vmin=0.00002,vmax=0.005)\n",
    "    colormesh_pars['cmap']='viridis'\n",
    "\n",
    "\n",
    "    a=4.489\n",
    "    m_gamma = np.sqrt(2)\n",
    "    gamma_r = np.sqrt(3)\n",
    "    r_x = np.sqrt(2)\n",
    "    gs = GridSpec(1, 5,width_ratios=[1,1,m_gamma,gamma_r,r_x],wspace=0)\n",
    "\n",
    "    ax1 = plt.subplot(gs[0],projection='mantid')\n",
    "    ax2 = plt.subplot(gs[1],sharey=ax1,projection='mantid')\n",
    "    ax3 = plt.subplot(gs[2],sharey=ax1,projection='mantid')\n",
    "    ax4 = plt.subplot(gs[3],sharey=ax1,projection='mantid')\n",
    "    ax5 = plt.subplot(gs[4],sharey=ax1,projection='mantid')\n",
    "\n",
    "\n",
    "    pcm=ax1.pcolormesh(mtd[dsl[0]['Name']], **colormesh_pars)\n",
    "    ax2.pcolormesh(mtd[dsl[1]['Name']], **colormesh_pars)\n",
    "    ax3.pcolormesh(mtd[dsl[2]['Name']], **colormesh_pars)#cmap='viridis', norm=LogNorm(vmin=0.00005,vmax=0.005))\n",
    "    ax4.pcolormesh(mtd[dsl[3]['Name']], **colormesh_pars) #cmap='viridis', norm=LogNorm(vmin=0.00005,vmax=0.005))\n",
    "    ax5.pcolormesh(mtd[dsl[4]['Name']], **colormesh_pars)\n",
    "\n",
    "\n",
    "    #Adjust plotting parameters\n",
    "    ax1.set_ylabel('E (meV)')\n",
    "    ax1.set_xlabel('')\n",
    "    ax1.set_ylim(-10.,30.)\n",
    "    ax1.set_yticks([0,20])\n",
    "    ax1.set_xlim(0,0.5)\n",
    "    ax1.set_xticks([0,0.5])\n",
    "    ax1.set_xticklabels(['$\\Gamma$','$X$'])\n",
    "    ax1.tick_params(direction='in')\n",
    "\n",
    "    ax2.get_yaxis().set_visible(False)\n",
    "    ax2.set_xlabel('')\n",
    "    ax2.set_xlim(0,0.5)\n",
    "    ax2.set_xticks([0.5])\n",
    "    ax2.set_xticklabels(['$M$'])\n",
    "    ax2.tick_params(direction='in')\n",
    "\n",
    "    ax3.get_yaxis().set_visible(False)\n",
    "    ax3.set_xlabel('')\n",
    "    ax3.set_xlim(-0.5,0)\n",
    "    ax3.set_xticks([0])\n",
    "    ax3.set_xticklabels(['$\\Gamma$'])\n",
    "    ax3.tick_params(direction='in')\n",
    "\n",
    "    ax4.get_yaxis().set_visible(False)\n",
    "    ax4.set_xlabel('')\n",
    "    ax4.set_xlim(0,0.5)\n",
    "    ax4.set_xticks([0.5])\n",
    "    ax4.set_xticklabels(['$R$'])\n",
    "    ax4.tick_params(direction='in')\n",
    "\n",
    "    ax5.get_yaxis().set_visible(False)\n",
    "    ax5.set_xlabel('')\n",
    "    ax5.set_xlim(-0.5,0)\n",
    "    ax5.set_xticks([0])\n",
    "    ax5.set_xticklabels(['$X$'])\n",
    "    ax5.tick_params(direction='in')\n",
    "\n",
    "    fig.colorbar(pcm, ax=[ax1,ax2,ax3,ax4,ax5])\n",
    "\n",
    "    #fig.show()\n",
    "    #plt.close('all')"
   ]
  },
  {
   "cell_type": "code",
   "execution_count": null,
   "metadata": {
    "execution": {
     "iopub.status.busy": "2023-09-29T18:33:28.059066Z",
     "iopub.status.idle": "2023-09-29T18:33:28.059257Z",
     "shell.execute_reply": "2023-09-29T18:33:28.059169Z",
     "shell.execute_reply.started": "2023-09-29T18:33:28.059160Z"
    },
    "tags": []
   },
   "outputs": [],
   "source": [
    "plot_along_path(dsl)"
   ]
  },
  {
   "cell_type": "markdown",
   "metadata": {},
   "source": [
    "# Plot along path for many BZ"
   ]
  },
  {
   "cell_type": "markdown",
   "metadata": {},
   "source": [
    "Whole process in 1 cell for 1st BZ"
   ]
  },
  {
   "cell_type": "code",
   "execution_count": null,
   "metadata": {
    "execution": {
     "iopub.status.busy": "2023-09-29T18:33:28.060052Z",
     "iopub.status.idle": "2023-09-29T18:33:28.060345Z",
     "shell.execute_reply": "2023-09-29T18:33:28.060253Z",
     "shell.execute_reply.started": "2023-09-29T18:33:28.060243Z"
    },
    "tags": []
   },
   "outputs": [],
   "source": [
    "poscar = simple_read_poscar('files_for_nb/POSCAR')\n",
    "path = seekpath.get_path(structure=poscar)\n",
    "\n",
    "dsl2=[]\n",
    "# APPEARS IT MAY NOT BE ABLE TO HANDLE DISCONTINUITIES IN PATH YET (e.g. R>X then R>M (path[5]))\n",
    "for i in range(5): #range(len(path['path'])):\n",
    "    #print(\"on path seg {}\".format(i))\n",
    "    path_seg = path['path'][i]\n",
    "    #print(path_seg)\n",
    "    q_dims_and_bins = choose_dims_and_bins(path_seg,path['point_coords'],perp_to_path=True)\n",
    "    slice_desc = make_slice_desc(q_dims_and_bins, path_seg)\n",
    "    dsl2.append(slice_desc)\n",
    "\n",
    "#print(dsl2)\n",
    "\n",
    "imp.reload(define_data)\n",
    "\n",
    "mde_data=define_data.define_data_set()\n",
    "reduce_data_to_MDE(mde_data)\n",
    "\n",
    "for i in range(len(dsl2)):\n",
    "    make_slice(mde_data[0],dsl2[i], ASCII_slice_folder='', MD_slice_folder='')\n",
    "\n",
    "plot_along_path(dsl2)"
   ]
  },
  {
   "cell_type": "markdown",
   "metadata": {},
   "source": [
    "For looping over all BZ"
   ]
  },
  {
   "cell_type": "code",
   "execution_count": null,
   "metadata": {
    "execution": {
     "iopub.status.busy": "2023-09-29T18:33:28.060834Z",
     "iopub.status.idle": "2023-09-29T18:33:28.061025Z",
     "shell.execute_reply": "2023-09-29T18:33:28.060937Z",
     "shell.execute_reply.started": "2023-09-29T18:33:28.060928Z"
    }
   },
   "outputs": [],
   "source": [
    "zone_center=np.array([0,0,0])\n",
    "\n",
    "def introduce_BZ_offset(zone_center, qdim0_range, qdim1_range, qdim2_range):\n",
    "    qdim"
   ]
  },
  {
   "cell_type": "code",
   "execution_count": null,
   "metadata": {
    "execution": {
     "iopub.status.busy": "2023-09-29T18:33:28.061711Z",
     "iopub.status.idle": "2023-09-29T18:33:28.062085Z",
     "shell.execute_reply": "2023-09-29T18:33:28.061990Z",
     "shell.execute_reply.started": "2023-09-29T18:33:28.061980Z"
    }
   },
   "outputs": [],
   "source": [
    "poscar = simple_read_poscar('files_for_nb/POSCAR')\n",
    "path = seekpath.get_path(structure=poscar)\n",
    "\n",
    "dsl2=[]\n",
    "# APPEARS IT MAY NOT BE ABLE TO HANDLE DISCONTINUITIES IN PATH YET (e.g. R>X then R>M (path[5]))\n",
    "for i in range(5): #range(len(path['path'])):\n",
    "    #print(\"on path seg {}\".format(i))\n",
    "    path_seg = path['path'][i]\n",
    "    #print(path_seg)\n",
    "    q_dims_and_bins = choose_dims_and_bins(path_seg,path['point_coords'],perp_to_path=True)\n",
    "    slice_desc = make_slice_desc(q_dims_and_bins, path_seg)\n",
    "    dsl2.append(slice_desc)\n",
    "\n",
    "#print(dsl2)\n",
    "\n",
    "imp.reload(define_data)\n",
    "\n",
    "mde_data=define_data.define_data_set()\n",
    "reduce_data_to_MDE(mde_data)\n",
    "\n",
    "for i in range(len(dsl2)):\n",
    "    make_slice(mde_data[0],dsl2[i], ASCII_slice_folder='', MD_slice_folder='')\n",
    "\n",
    "plot_along_path(dsl2)"
   ]
  },
  {
   "cell_type": "code",
   "execution_count": null,
   "metadata": {
    "execution": {
     "iopub.status.busy": "2023-09-29T18:33:28.062552Z",
     "iopub.status.idle": "2023-09-29T18:33:28.062918Z",
     "shell.execute_reply": "2023-09-29T18:33:28.062824Z",
     "shell.execute_reply.started": "2023-09-29T18:33:28.062814Z"
    },
    "tags": []
   },
   "outputs": [],
   "source": [
    "def conv_from_desc_string(input_string):\n",
    "    # conv desc string to np array\n",
    "    values = [float(i) for i in input_string.split(',')]\n",
    "    array = np.array(values)[:,np.newaxis]\n",
    "    return array"
   ]
  },
  {
   "cell_type": "code",
   "execution_count": null,
   "metadata": {
    "execution": {
     "iopub.status.busy": "2023-09-29T18:33:28.063366Z",
     "iopub.status.idle": "2023-09-29T18:33:28.063720Z",
     "shell.execute_reply": "2023-09-29T18:33:28.063625Z",
     "shell.execute_reply.started": "2023-09-29T18:33:28.063615Z"
    },
    "tags": []
   },
   "outputs": [],
   "source": [
    "string_t = '2,3,2'\n",
    "array_t = conv_from_desc_string(string_t)\n",
    "print(array_t)"
   ]
  },
  {
   "cell_type": "markdown",
   "metadata": {},
   "source": [
    "https://www.statlect.com/matrix-algebra/change-of-basis\n",
    "\n",
    "https://math.stackexchange.com/questions/340978/change-of-basis-matrix-to-convert-standard-basis-to-another-basis\n",
    "\n",
    "https://math.hmc.edu/calculus/hmc-mathematics-calculus-online-tutorials/linear-algebra/change-of-basis/\n",
    "\n",
    "https://matrix.reshish.com/inverCalculation.php\n",
    "\n",
    "https://www.symbolab.com/solver/matrix-multiply-calculator/%5Cbegin%7Bpmatrix%7D-%5Cfrac%7B1%7D%7B2%7D%26-%5Cfrac%7B1%7D%7B2%7D%260%5C%5C%20%20%20-%5Cfrac%7B1%7D%7B2%7D%26%5Cfrac%7B1%7D%7B2%7D%260%5C%5C%20%20%200%260%26-1%5Cend%7Bpmatrix%7D%5Cbegin%7Bpmatrix%7D0.5%5C%5C%20%20%200.5%5C%5C%20%20%200%5Cend%7Bpmatrix%7D?or=input"
   ]
  },
  {
   "cell_type": "code",
   "execution_count": null,
   "metadata": {
    "execution": {
     "iopub.status.busy": "2023-09-29T18:33:28.064195Z",
     "iopub.status.idle": "2023-09-29T18:33:28.064496Z",
     "shell.execute_reply": "2023-09-29T18:33:28.064386Z",
     "shell.execute_reply.started": "2023-09-29T18:33:28.064377Z"
    },
    "tags": []
   },
   "outputs": [],
   "source": [
    "for i in range(len(dsl)):\n",
    "    #print(\"\\nslice number {}\".format(i))\n",
    "    print(\"\\nQDim0: \"+dsl[i].get('QDimension0'))\n",
    "    print(\"QDim1: \"+dsl[i].get('QDimension1'))\n",
    "    print(\"QDim2: \"+dsl[i].get('QDimension2'))\n",
    "    basis_mat = np.hstack((conv_from_desc_string(dsl[i].get('QDimension0')),conv_from_desc_string(dsl[i].get('QDimension1')),conv_from_desc_string(dsl[i].get('QDimension2')))) \n",
    "    print(basis_mat)\n",
    "    q0_start = conv_from_desc_string(dsl[i].get('Dimension0Binning'))[0]\n",
    "    q1_start = np.mean(conv_from_desc_string(dsl[i].get('Dimension1Binning')))\n",
    "    q2_start = np.mean(conv_from_desc_string(dsl[i].get('Dimension2Binning')))\n",
    "    print(\"path start: \", q0_start, q1_start, q2_start)"
   ]
  },
  {
   "cell_type": "code",
   "execution_count": null,
   "metadata": {
    "tags": []
   },
   "outputs": [],
   "source": []
  }
 ],
 "metadata": {
  "kernelspec": {
   "display_name": "mantid-framework",
   "language": "",
   "name": "mantid"
  },
  "language_info": {
   "codemirror_mode": {
    "name": "ipython",
    "version": 3
   },
   "file_extension": ".py",
   "mimetype": "text/x-python",
   "name": "python",
   "nbconvert_exporter": "python",
   "pygments_lexer": "ipython3",
   "version": "3.8.18"
  },
  "vscode": {
   "interpreter": {
    "hash": "21207831c8edb9b09d1d126a245c01136c84420ef5ede914b92b1969a12cf52d"
   }
  }
 },
 "nbformat": 4,
 "nbformat_minor": 4
}
