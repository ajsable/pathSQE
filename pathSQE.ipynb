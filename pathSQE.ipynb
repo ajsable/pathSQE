{
 "cells": [
  {
   "attachments": {},
   "cell_type": "markdown",
   "metadata": {},
   "source": [
    "# task description"
   ]
  },
  {
   "attachments": {},
   "cell_type": "markdown",
   "metadata": {},
   "source": [
    "task 1 - write script that takes POSCAR and mde workspace as input and plots dispersions along high symmetry path\n",
    "* write function where you give space group and it outputs you a path (seekpath package)\n",
    "* choose some offset by whole int BZ (depending on coverage, signal strength, rings, etc.); can be different for each slice; care about structure (worry about intens later)\n",
    "* make a slice for each with mantid and save workspace mde\n",
    "* need to scale each portion so that it is in terms of angstrom\n",
    "* need to figure len of each hist so that sym points line up on the plot\n",
    "\n",
    "* in the future, could try to automate the step where you are choosing the offset (i.e. check coverage, check for rings, high q for phonon / low for magnetism, etc.)\n",
    "\n",
    "task 2\n",
    "* also, how to export the histogram as np array and import to python"
   ]
  },
  {
   "attachments": {},
   "cell_type": "markdown",
   "metadata": {},
   "source": [
    "# setup"
   ]
  },
  {
   "cell_type": "code",
   "execution_count": 48,
   "metadata": {},
   "outputs": [],
   "source": [
    "%matplotlib inline\n",
    "import numpy as np\n",
    "import matplotlib.pyplot as plt\n",
    "import seekpath\n",
    "from seekpath.util import atoms_num_dict\n",
    "#from pathSQE_functions import *"
   ]
  },
  {
   "cell_type": "code",
   "execution_count": 49,
   "metadata": {},
   "outputs": [],
   "source": [
    "from matplotlib.gridspec import GridSpec\n",
    "from mantid.simpleapi import *\n",
    "from mantid import plots\n",
    "import os\n",
    "import imp\n",
    "import sys\n",
    "from reduce_data_to_MDE_07142023 import *\n",
    "from slice_utils_07142023 import *\n",
    "sys.path.append('manual_mantid_reduceAndViz')\n",
    "import define_data"
   ]
  },
  {
   "attachments": {},
   "cell_type": "markdown",
   "metadata": {},
   "source": [
    "# read poscar for seekpath input"
   ]
  },
  {
   "cell_type": "code",
   "execution_count": 50,
   "metadata": {},
   "outputs": [],
   "source": [
    "def simple_read_poscar(fname):\n",
    "    \"\"\"Read a POSCAR file.\"\"\"\n",
    "    with open(fname) as f:\n",
    "        lines = [l.partition(\"!\")[0] for l in f.readlines()]\n",
    "\n",
    "    alat = float(lines[1])\n",
    "    v1 = [float(_) * alat for _ in lines[2].split()]\n",
    "    v2 = [float(_) * alat for _ in lines[3].split()]\n",
    "    v3 = [float(_) * alat for _ in lines[4].split()]\n",
    "    cell = [v1, v2, v3]\n",
    "\n",
    "    species = lines[5].split()\n",
    "    num_atoms = [int(_) for _ in lines[6].split()]\n",
    "\n",
    "    next_line = lines[7]\n",
    "    if next_line.strip().lower() != \"direct\":\n",
    "        raise ValueError(\"This simple routine can only deal with 'direct' POSCARs\")\n",
    "    # Note: to support also cartesian, remember to multiply the coordinates by alat\n",
    "\n",
    "    positions = []\n",
    "    atomic_numbers = []\n",
    "    cnt = 8\n",
    "    for el, num in zip(species, num_atoms):\n",
    "        atom_num = atoms_num_dict[el.capitalize()]\n",
    "        for _ in range(num):\n",
    "            atomic_numbers.append(atom_num)\n",
    "            positions.append([float(_) for _ in lines[cnt].split()])\n",
    "            cnt += 1\n",
    "\n",
    "    return (cell, positions, atomic_numbers)"
   ]
  },
  {
   "cell_type": "code",
   "execution_count": 51,
   "metadata": {},
   "outputs": [
    {
     "name": "stdout",
     "output_type": "stream",
     "text": [
      "([[4.65547841329003, -0.0, 0.0], [0.0, 4.65547841329003, -0.0], [0.0, -0.0, 4.65547841329003]], [[0.13476038461486, 0.13476038461486, 0.13476038461486], [0.36523961538514, 0.86523961538514, 0.63476038461486], [0.86523961538514, 0.63476038461486, 0.36523961538514], [0.63476038461486, 0.36523961538514, 0.86523961538514], [0.84874890814554, 0.84874890814554, 0.84874890814554], [0.65125109185446, 0.15125109185446, 0.34874890814554], [0.15125109185446, 0.34874890814554, 0.65125109185446], [0.34874890814554, 0.65125109185446, 0.15125109185446]], [26, 26, 26, 26, 14, 14, 14, 14])\n"
     ]
    }
   ],
   "source": [
    "poscar = simple_read_poscar('files_for_nb/POSCAR')\n",
    "print(poscar)"
   ]
  },
  {
   "attachments": {},
   "cell_type": "markdown",
   "metadata": {},
   "source": [
    "# determining high symmetry path"
   ]
  },
  {
   "attachments": {},
   "cell_type": "markdown",
   "metadata": {},
   "source": [
    "FeSi unit cell:\n",
    "\n",
    "<img src=\"files_for_nb/FeSi_unitCell.png\" alt=\"Alternative text\" />"
   ]
  },
  {
   "cell_type": "code",
   "execution_count": 52,
   "metadata": {},
   "outputs": [
    {
     "name": "stdout",
     "output_type": "stream",
     "text": [
      "[('GAMMA', 'X'), ('X', 'M'), ('M', 'GAMMA'), ('GAMMA', 'R'), ('R', 'X'), ('R', 'M'), ('M', 'X_1')]\n",
      "{'GAMMA': [0.0, 0.0, 0.0], 'R': [0.5, 0.5, 0.5], 'M': [0.5, 0.5, 0.0], 'X': [0.0, 0.5, 0.0], 'X_1': [0.5, 0.0, 0.0]}\n",
      "dict_keys(['point_coords', 'path', 'has_inversion_symmetry', 'augmented_path', 'bravais_lattice', 'bravais_lattice_extended', 'conv_lattice', 'conv_positions', 'conv_types', 'primitive_lattice', 'primitive_positions', 'primitive_types', 'reciprocal_primitive_lattice', 'inverse_primitive_transformation_matrix', 'primitive_transformation_matrix', 'volume_original_wrt_conv', 'volume_original_wrt_prim', 'spacegroup_number', 'spacegroup_international', 'rotation_matrix'])\n"
     ]
    }
   ],
   "source": [
    "path = seekpath.get_path(structure=poscar)\n",
    "print(path['path'])\n",
    "print(path['point_coords'])\n",
    "print(path.keys())"
   ]
  },
  {
   "attachments": {},
   "cell_type": "markdown",
   "metadata": {},
   "source": [
    "Seekpath for FeSi matches the path given by aflow: https://aflow.org/material/?id=aflow:36503a08caf0a17f\n",
    "\n",
    "Can look at path and BZ in seekpath online tool + visualizer: https://www.materialscloud.org/work/tools/seekpath\n",
    "\n",
    "<img src=\"files_for_nb/FeSi_highSymPath1_sm.png\" alt=\"Alternative text\" />\n",
    "\n",
    "<img src=\"files_for_nb/FeSi_highSymPath_sm.png\" alt=\"Alternative text\" />"
   ]
  },
  {
   "attachments": {},
   "cell_type": "markdown",
   "metadata": {},
   "source": [
    "# choosing dims and bins for slices"
   ]
  },
  {
   "attachments": {},
   "cell_type": "markdown",
   "metadata": {},
   "source": [
    "Need to be able to choose q dimensions and bins based on the given symmetry endpoints of each path segment. Work through some example by hand to try and understand the algorithm\n",
    "\n",
    "* For (GAMMA,X)=[(0,0,0),(0,0.5,0)]   !!!MAYBE WRONG!!!\n",
    "\n",
    "'QDimension0':'1,1,0',\n",
    "\n",
    "'QDimension1':'-1,1,0',\n",
    "\n",
    "'QDimension2':'0,0,1',\n",
    "\n",
    "<br>\n",
    "'Dimension0Binning':'-0.15,0.15',\n",
    "\n",
    "'Dimension1Binning':'-0.15,0.15',\n",
    "\n",
    "'Dimension2Binning':'0,0.025,0.5'\n",
    "\n",
    "<br>\n",
    "\n",
    "* For (X,M)=[(0,0.5,0), (0.5,0.5,0)]        !!!ON PAPER!!!\n",
    "\n",
    "'QDimension0':'1,1,0',\n",
    "\n",
    "'QDimension1':'-1,1,0',\n",
    "\n",
    "'QDimension2':'0,0,1',\n",
    "\n",
    "<br>\n",
    "'Dimension0Binning':'3.85,4.15',\n",
    "\n",
    "'Dimension1Binning':'-0.15,0.15',\n",
    "\n",
    "'Dimension2Binning':'-7.3625,0.025,8.4875'\n"
   ]
  },
  {
   "cell_type": "code",
   "execution_count": 53,
   "metadata": {},
   "outputs": [
    {
     "name": "stdout",
     "output_type": "stream",
     "text": [
      "('GAMMA', 'X')\n",
      "[0.0, 0.0, 0.0]\n",
      "[0.0, 0.5, 0.0]\n",
      "test\n",
      "GAMMA\n",
      "[0.0, 0.0, 0.0]\n",
      "cP\n"
     ]
    }
   ],
   "source": [
    "print(path['path'][0])\n",
    "print(path['point_coords']['GAMMA'])\n",
    "print(path['point_coords']['X'])\n",
    "\n",
    "print('test')\n",
    "point_cord = path['point_coords']\n",
    "path_seg = path['path'][0]\n",
    "path_brav = path['bravais_lattice']\n",
    "print(path_seg[0])\n",
    "print(point_cord[path_seg[0]])\n",
    "print(path_brav)"
   ]
  },
  {
   "cell_type": "code",
   "execution_count": 54,
   "metadata": {},
   "outputs": [
    {
     "name": "stdout",
     "output_type": "stream",
     "text": [
      "[0.  0.5 0. ]\n",
      "[1]\n",
      "[-2.    0.05  2.  ]\n"
     ]
    }
   ],
   "source": [
    "diff = np.array(point_cord[path_seg[1]]) - np.array(point_cord[path_seg[0]])\n",
    "print(diff)\n",
    "print(np.nonzero(diff)[0])\n",
    "scaler = 1/diff[np.nonzero(diff)[0]]\n",
    "qdim0_range = np.array([-1,0.025,1])\n",
    "print(qdim0_range*scaler)"
   ]
  },
  {
   "cell_type": "code",
   "execution_count": 55,
   "metadata": {},
   "outputs": [
    {
     "name": "stdout",
     "output_type": "stream",
     "text": [
      "[0.3  0.   0.75]\n",
      "[0 2]\n",
      "[-3.33333333  0.08333333  3.33333333]\n"
     ]
    }
   ],
   "source": [
    "diff3d = np.array([0.3,0,0.75])\n",
    "print(diff3d)\n",
    "print(np.nonzero(diff3d)[0])\n",
    "minDiffNonZero = np.min(diff3d[np.nonzero(diff3d)[0]])\n",
    "scaler = 1/minDiffNonZero\n",
    "def_range = np.array([-1,0.025,1])\n",
    "qdim0_range = def_range*scaler\n",
    "print(qdim0_range)"
   ]
  },
  {
   "cell_type": "code",
   "execution_count": 56,
   "metadata": {},
   "outputs": [
    {
     "name": "stdout",
     "output_type": "stream",
     "text": [
      "[0.37139068 0.         0.92847669]\n",
      "h parallel score: 0.3713906763541037\n",
      "k parallel score: 0.0\n",
      "l parallel score: 0.9284766908852594\n"
     ]
    }
   ],
   "source": [
    "h = np.array([1,0,0])\n",
    "k = np.array([0,1,0])\n",
    "l = np.array([0,0,1])\n",
    "\n",
    "#qdim0 = np.array(point_cord[path_seg[1]]) - np.array(point_cord[path_seg[0]])\n",
    "qdim0 = np.array([0.3,0,0.75])\n",
    "unit_qdim0 = qdim0 / np.linalg.norm(qdim0)\n",
    "print(unit_qdim0)\n",
    "print(\"h parallel score: {}\".format(np.dot(unit_qdim0,h)))\n",
    "print(\"k parallel score: {}\".format(np.dot(unit_qdim0,k)))\n",
    "print(\"l parallel score: {}\".format(np.dot(unit_qdim0,l)))\n"
   ]
  },
  {
   "attachments": {},
   "cell_type": "markdown",
   "metadata": {},
   "source": [
    "Helpful links:\n",
    "* Angle btw two vecs: https://www.emathhelp.net/en/calculators/linear-algebra/angle-between-two-vectors-calculator/?u=0.25%2C0.75%2C0.5&v=0.75%2C-0.25%2C0\n",
    "\n",
    "* Cross product calc: https://www.symbolab.com/solver/vector-cross-product-calculator/%5Cbegin%7Bpmatrix%7D0.25%260.75%260.5%5Cend%7Bpmatrix%7D%5Ctimes%5Cbegin%7Bpmatrix%7D0.75%26-0.25%260%5Cend%7Bpmatrix%7D?or=input\n",
    "\n",
    "* Find plane eq given 3 points: https://keisan.casio.com/exec/system/1223596129\n",
    "\n",
    "* Geogebra 3D viz: https://www.geogebra.org/3d?lang=en "
   ]
  },
  {
   "cell_type": "code",
   "execution_count": 57,
   "metadata": {},
   "outputs": [],
   "source": [
    "def calc_para_scores(qdim0):\n",
    "    hkl = np.array([[1,0,0],[0,1,0],[0,0,1]])\n",
    "    unit_qdim0 = qdim0 / np.linalg.norm(qdim0)\n",
    "    # calculate degree of parallelism btw qdim0 and hkl vecs\n",
    "    para_scores = np.zeros((3,1))\n",
    "    for i in range(3):\n",
    "        para_scores[i] = np.dot(unit_qdim0,hkl[i])\n",
    "    return para_scores\n",
    "\n",
    "\n",
    "def find_qdim_1and2(qdim0, perp_to_path=False):\n",
    "    hkl = np.array([[1,0,0],[0,1,0],[0,0,1]])\n",
    "    # if non-default perp to path method is wanted\n",
    "    if perp_to_path:\n",
    "        if np.count_nonzero(qdim0) == 1:\n",
    "            # if diff=dim0 is 1D, then dim1 and dim2 will also just be 1D h,k,or l\n",
    "            qdim0_dir = np.nonzero(qdim0)[0]\n",
    "            hkl_avail = np.delete(hkl, qdim0_dir, axis=0)\n",
    "            qdim1 = hkl_avail[0]\n",
    "            qdim2 = hkl_avail[1]\n",
    "        elif (np.count_nonzero(qdim0) == 2) or (np.count_nonzero(qdim0) == 3):\n",
    "            nzeroInds = np.nonzero(qdim0)[0]\n",
    "            qdim1 = qdim0.copy()\n",
    "            # swap h and k and make one negative to give perpen direction within the horizontal plane\n",
    "            # If qdim0 is 3D, need to set l to 0 so that it is perpen and in the horizontal plane \n",
    "            qdim1[nzeroInds[0]], qdim1[nzeroInds[1]] = qdim0[nzeroInds[1]], -qdim0[nzeroInds[0]]\n",
    "            if np.count_nonzero(qdim0) == 3:\n",
    "                qdim1[2] = 0 \n",
    "            # qdim2 is simply the direction perpen to qdim0 and qdim1\n",
    "            qdim2 = np.cross(qdim0, qdim1)\n",
    "            qdim2 = qdim2 / np.max(np.absolute(qdim2))\n",
    "            # MAYBE DON'T (messing w bin offset) - normalize the two qdims so that mag of each is 1 A-1 and can easily do bins +/- 0.15\n",
    "            #qdim1 = qdim1 / np.linalg.norm(qdim1)\n",
    "            #qdim2 = qdim2 / np.linalg.norm(qdim2)\n",
    "        else:\n",
    "            raise ValueError(\"The selected symmetry path contains a segment which is greater than 3 dimensions\") \n",
    "    else:\n",
    "        # if perp to path isn't wanted, do it based on which 2 hkl are most perp (i.e. least para) to dim0\n",
    "        para_scores = calc_para_scores(qdim0)\n",
    "        # want two directions most perpen to qdim0 to be qdim1 and qdim2\n",
    "        qdim1_ind = np.argmin(para_scores)\n",
    "        qdim1 = hkl[qdim1_ind]\n",
    "        # set qdim1 as highest so it won't be chosen for qdim2\n",
    "        para_scores[qdim1_ind] = 2\n",
    "        qdim2_ind = np.argmin(para_scores)\n",
    "        qdim2 = hkl[qdim2_ind]\n",
    "    return qdim1, qdim2\n",
    "\n",
    "\n",
    "def find_qbins_1and2(qdim0, qdim1, qdim2, pt1, pt2):\n",
    "    # we start with bins of 0 so hopefully can catch it if code isn't working\n",
    "    qdim1_range = 0\n",
    "    qdim2_range = 0 \n",
    "\n",
    "    # if any h,k,l of both points on the segment is not 0 but that same h,k,l of qdim0\n",
    "    # is 0, then we need some offset in bins for qdim 1/2. E.g. for X>M qdim0=[1,0,0] but\n",
    "    # both X ([0,0.5,0])and M ([0.5,0.5,0]) have nonzero k=0.5. Thus we need offset in bins \n",
    "    # (in this case qdim1=[0,1,0] so nonzero offset in qbin1) \n",
    "    qdim0_zeroInds = np.where(qdim0 == 0)[0]\n",
    "    if len(qdim0_zeroInds) == 0:\n",
    "        # the default qdim1 and 2 bin range about 0\n",
    "        qdim1_range = np.array([-0.15,0.15])\n",
    "        qdim2_range = np.array([-0.15,0.15]) \n",
    "        return qdim1_range, qdim2_range\n",
    "    \n",
    "    needed_offset = np.zeros((3,1))\n",
    "    nonzero_hkl = []\n",
    "    for ind in qdim0_zeroInds:\n",
    "        if (pt1[ind] != 0) and (pt2[ind] != 0):\n",
    "            needed_offset[ind]=pt1[ind]\n",
    "            nonzero_hkl.append(ind)\n",
    "    \n",
    "    if not np.any(needed_offset):\n",
    "        #print(\"No offset is needed\")\n",
    "        qdim1_range = np.array([-0.15,0.15])\n",
    "        qdim2_range = np.array([-0.15,0.15])\n",
    "        return qdim1_range, qdim2_range\n",
    "        \n",
    "    # MIGHT NOT WORK FOR KEEPING 2 CONST... NEED TO CHECK e.g. M>R\n",
    "    for ind in nonzero_hkl: # can prob get rid of this and just put nonzero_hkl wherever ind is\n",
    "        if qdim1[ind] != 0:\n",
    "            qdim_coeff_for_bin1 = needed_offset[ind] / qdim1[ind]\n",
    "            qdim1_range = np.array([0.7,1.3]) * qdim_coeff_for_bin1\n",
    "            qdim2_range = np.array([-0.15,0.15])\n",
    "        elif qdim2[ind] != 0:\n",
    "            qdim_coeff_for_bin2 = needed_offset[ind] / qdim2[ind]\n",
    "            qdim2_range = np.array([0.7,1.3]) * qdim_coeff_for_bin2\n",
    "            qdim1_range = np.array([-0.15,0.15])\n",
    "  \n",
    "    return qdim1_range, qdim2_range\n",
    "\n",
    "\n",
    "def find_qdim0_range(qdim0, qdim1, qdim2, qdim1_range, qdim2_range, pt1, pt2):\n",
    "    # calculating default QDimension0 range and bin size\n",
    "    # bounds chosen to cover first BZ and bin width is from most mantid examples\n",
    "    def_range = np.array([0,0.025,0.5])\n",
    "\n",
    "    if check_bin0_and_path_endpoints(qdim0, qdim1, qdim2, qdim1_range, qdim2_range, pt1, pt2, bin_range=def_range):\n",
    "        return def_range\n",
    "    else:\n",
    "        rev_range = def_range[::-1] \n",
    "        rev_range[0] = -rev_range[0]\n",
    "        if check_bin0_and_path_endpoints(qdim0, qdim1, qdim2, qdim1_range, qdim2_range, pt1, pt2, bin_range=rev_range):\n",
    "            return rev_range\n",
    "        else:\n",
    "            return 0\n",
    "        \n",
    "    # scaling may not be necessary now since normalizing qdim0... later make width in A-1 and equal to instrument resolution\n",
    "    # current method of fixed fraction step of BZ will break for larger unit cells (smaller BZ in A-1)\n",
    "    #minDiffNonZero = np.min(np.absolute(qdim0[np.nonzero(qdim0)[0]]))\n",
    "    # scaler makes sure resolution stays normal with weird qdim0\n",
    "    #scaler = 1/minDiffNonZero\n",
    "    #qdim0_range = def_range*scaler\n",
    "    #return def_range\n",
    "\n",
    "def check_bin0_and_path_endpoints(qdim0, qdim1, qdim2, qdim1_range, qdim2_range, pt1, pt2, bin_range):\n",
    "    pt1_check = np.all(((bin_range[0]*qdim0 + np.mean(qdim1_range)*qdim1 + np.mean(qdim2_range)*qdim2) == pt1))\n",
    "    pt2_check = np.all(((bin_range[2]*qdim0 + np.mean(qdim1_range)*qdim1 + np.mean(qdim2_range)*qdim2) == pt2))\n",
    "    #print(pt1_check, pt2_check)\n",
    "    return pt1_check and pt2_check\n"
   ]
  },
  {
   "attachments": {},
   "cell_type": "markdown",
   "metadata": {},
   "source": [
    "tests"
   ]
  },
  {
   "cell_type": "code",
   "execution_count": 58,
   "metadata": {},
   "outputs": [
    {
     "name": "stdout",
     "output_type": "stream",
     "text": [
      "[ 0.75  0.   -0.6 ] [-0.  1.  0.]\n",
      "[0 1 0] [1 0 0]\n",
      "\n",
      "test2:\n",
      "[ 0.5 -0.5  0. ] [ 0.  0. -1.]\n"
     ]
    }
   ],
   "source": [
    "qdim0 = np.array([0.6,0,0.75])\n",
    "qdim1,qdim2 = find_qdim_1and2(qdim0, perp_to_path=True)\n",
    "print(qdim1,qdim2)\n",
    "\n",
    "qdim0 = np.array([0.6,0,0.75])\n",
    "qdim1,qdim2 = find_qdim_1and2(qdim0, perp_to_path=False)\n",
    "print(qdim1,qdim2)\n",
    "\n",
    "print(\"\\ntest2:\")\n",
    "qdim0 = np.array([0.5,0.5,0])\n",
    "qdim1,qdim2 = find_qdim_1and2(qdim0, perp_to_path=True)\n",
    "print(qdim1,qdim2)"
   ]
  },
  {
   "attachments": {},
   "cell_type": "markdown",
   "metadata": {},
   "source": [
    "dev"
   ]
  },
  {
   "cell_type": "code",
   "execution_count": 59,
   "metadata": {},
   "outputs": [
    {
     "name": "stdout",
     "output_type": "stream",
     "text": [
      "[]\n",
      "[0 1 2]\n",
      "[0.5 0.5 0.5]\n",
      "[-0.70710678  0.70710678  0.        ]\n",
      "[-0.40824829 -0.40824829  0.81649658]\n"
     ]
    }
   ],
   "source": [
    "#qdim0tst = np.array([0.25,0.75,0.5])\n",
    "qdim0tst = np.array([0.5,0.5,0.5])\n",
    "#qdim0tst = np.array([1,0,0])\n",
    "hkl = np.array([[1,0,0],[0,1,0],[0,0,1]])\n",
    "zeroInds = np.where(qdim0tst == 0)[0]\n",
    "nzeroInds = np.nonzero(qdim0tst)[0]\n",
    "print(zeroInds)\n",
    "print(nzeroInds)\n",
    "qdim1tst = qdim0tst.copy()\n",
    "qdim1tst[nzeroInds[0]], qdim1tst[nzeroInds[1]] = -qdim0tst[nzeroInds[1]], qdim0tst[nzeroInds[0]]\n",
    "if np.count_nonzero(qdim0tst) == 3:\n",
    "    qdim1tst[2] = 0 \n",
    "qdim2tst = np.cross(qdim0tst, qdim1tst)\n",
    "qdim1tst = qdim1tst / np.linalg.norm(qdim1tst)\n",
    "qdim2tst = qdim2tst / np.linalg.norm(qdim2tst)\n",
    "print(qdim0tst)\n",
    "print(qdim1tst)\n",
    "print(qdim2tst)"
   ]
  },
  {
   "attachments": {},
   "cell_type": "markdown",
   "metadata": {},
   "source": [
    "driver function for dim and bin selection"
   ]
  },
  {
   "cell_type": "code",
   "execution_count": 71,
   "metadata": {},
   "outputs": [],
   "source": [
    "def choose_dims_and_bins(path_segment, point_coords, perp_to_path=False):\n",
    "    \n",
    "    pt1 = np.array(point_coords[path_segment[0]])\n",
    "    pt2 = np.array(point_coords[path_segment[1]])\n",
    "    diff = pt2 - pt1\n",
    "\n",
    "    # calculating default QDimension0 axis direction and scaling\n",
    "    qdim0 = diff / np.max(np.absolute(diff))\n",
    "\n",
    "    # determine the directions of qdim1 and qdim2\n",
    "    qdim1, qdim2 = find_qdim_1and2(qdim0,perp_to_path)\n",
    "    qdim1_range, qdim2_range = find_qbins_1and2(qdim0, qdim1, qdim2, pt1, pt2)\n",
    "\n",
    "    # calculating default QDimension0  bin range and bin size\n",
    "    qdim0_range = find_qdim0_range(qdim0, qdim1, qdim2, qdim1_range, qdim2_range, pt1, pt2)\n",
    "\n",
    "    # return list contains various types (mainly np arrays) that are converted to properly formatted strings\n",
    "    # as a part of the slice description generation process\n",
    "    q_dims_and_bins = [qdim0, qdim1, qdim2, qdim0_range, qdim1_range, qdim2_range]\n",
    "    return q_dims_and_bins\n"
   ]
  },
  {
   "attachments": {},
   "cell_type": "markdown",
   "metadata": {},
   "source": [
    "driver test"
   ]
  },
  {
   "cell_type": "code",
   "execution_count": 61,
   "metadata": {},
   "outputs": [
    {
     "name": "stdout",
     "output_type": "stream",
     "text": [
      "('GAMMA', 'X')\n",
      "{'GAMMA': [0.0, 0.0, 0.0], 'R': [0.5, 0.5, 0.5], 'M': [0.5, 0.5, 0.0], 'X': [0.0, 0.5, 0.0], 'X_1': [0.5, 0.0, 0.0]}\n",
      "cP\n",
      "[array([0., 1., 0.]), array([1, 0, 0]), array([0, 0, 1]), array([0.   , 0.025, 0.5  ]), array([-0.15,  0.15]), array([-0.15,  0.15])]\n"
     ]
    }
   ],
   "source": [
    "path_seg = path['path'][0]\n",
    "point_cord = path['point_coords']\n",
    "path_brav = path['bravais_lattice']\n",
    "print(path_seg)\n",
    "print(point_cord)\n",
    "print(path_brav)\n",
    "\n",
    "q_dims_and_bins = choose_dims_and_bins(path_seg,point_cord,perp_to_path=True)\n",
    "print(q_dims_and_bins)"
   ]
  },
  {
   "cell_type": "code",
   "execution_count": 62,
   "metadata": {},
   "outputs": [
    {
     "name": "stdout",
     "output_type": "stream",
     "text": [
      "on path seg 0\n",
      "on path seg 1\n",
      "on path seg 2\n",
      "on path seg 3\n",
      "on path seg 4\n"
     ]
    }
   ],
   "source": [
    "poscar = simple_read_poscar('files_for_nb/POSCAR')\n",
    "path = seekpath.get_path(structure=poscar)\n",
    "\n",
    "dims_and_bins_list=[]\n",
    "for i in range(5): #range(len(path['path'])):\n",
    "    print(\"on path seg {}\".format(i))\n",
    "    path_seg = path['path'][i]\n",
    "    q_dims_and_bins = choose_dims_and_bins(path_seg,path['point_coords'],perp_to_path=True)\n",
    "    dims_and_bins_list.append(q_dims_and_bins)"
   ]
  },
  {
   "cell_type": "code",
   "execution_count": 63,
   "metadata": {},
   "outputs": [
    {
     "name": "stdout",
     "output_type": "stream",
     "text": [
      "\n",
      "path segment 0 from GAMMA to X\n",
      "[array([0., 1., 0.]), array([1, 0, 0]), array([0, 0, 1]), array([0.   , 0.025, 0.5  ]), array([-0.15,  0.15]), array([-0.15,  0.15])]\n",
      "\n",
      "path segment 1 from X to M\n",
      "[array([1., 0., 0.]), array([0, 1, 0]), array([0, 0, 1]), array([0.   , 0.025, 0.5  ]), array([0.35, 0.65]), array([-0.15,  0.15])]\n",
      "\n",
      "path segment 2 from M to GAMMA\n",
      "[array([-1., -1.,  0.]), array([-1.,  1.,  0.]), array([-0.,  0., -1.]), array([-0.5  ,  0.025,  0.   ]), array([-0.15,  0.15]), array([-0.15,  0.15])]\n",
      "\n",
      "path segment 3 from GAMMA to R\n",
      "[array([1., 1., 1.]), array([ 1., -1.,  0.]), array([ 0.5,  0.5, -1. ]), array([0.   , 0.025, 0.5  ]), array([-0.15,  0.15]), array([-0.15,  0.15])]\n",
      "\n",
      "path segment 4 from R to X\n",
      "[array([-1.,  0., -1.]), array([-1.,  0.,  1.]), array([0., 1., 0.]), array([-0.5  ,  0.025,  0.   ]), array([-0.15,  0.15]), array([0.35, 0.65])]\n"
     ]
    }
   ],
   "source": [
    "for i in range(5):\n",
    "    print(\"\\npath segment {} from {} to {}\".format(i, path['path'][i][0], path['path'][i][1]))\n",
    "    print(dims_and_bins_list[i])"
   ]
  },
  {
   "attachments": {},
   "cell_type": "markdown",
   "metadata": {},
   "source": [
    "# making slice descriptions"
   ]
  },
  {
   "cell_type": "code",
   "execution_count": 64,
   "metadata": {},
   "outputs": [],
   "source": [
    "test_slice={'QDimension0':'1,1,0',\n",
    "            'QDimension1':'-1,1,0',\n",
    "            'QDimension2':'0,0,1',\n",
    "            'Dimension0Name':'QDimension0',\n",
    "            'Dimension0Binning':'3.85,4.15',\n",
    "            'Dimension1Name':'QDimension1',\n",
    "            'Dimension1Binning':'-0.15,0.15',\n",
    "            'Dimension2Name':'QDimension2',\n",
    "            'Dimension2Binning':'-7.3625,0.025,8.4875',\n",
    "            'Dimension3Name':'DeltaE',\n",
    "            'Dimension3Binning':'-35.5,1,66.5',\n",
    "            'SymmetryOperations':'x,y,z'}"
   ]
  },
  {
   "cell_type": "code",
   "execution_count": 65,
   "metadata": {},
   "outputs": [],
   "source": [
    "def conv_to_desc_string(input_item):\n",
    "    # works for np arrays, lists, and tuples\n",
    "    string = ''\n",
    "    for item in input_item:\n",
    "        string = string + str(item) +','\n",
    "    string = string[:-1]\n",
    "    return string"
   ]
  },
  {
   "cell_type": "code",
   "execution_count": 66,
   "metadata": {},
   "outputs": [
    {
     "name": "stdout",
     "output_type": "stream",
     "text": [
      "1,1,0\n",
      "1,1,0\n",
      "True\n",
      "1,1,0\n",
      "True\n",
      "1,1,0\n",
      "True\n"
     ]
    }
   ],
   "source": [
    "print(test_slice['QDimension0'])\n",
    "qdim2= 1,1,0\n",
    "tst_str = conv_to_desc_string(qdim2)\n",
    "print(tst_str)\n",
    "print(test_slice['QDimension0'] == tst_str)\n",
    "\n",
    "dim3= [1,1,0]\n",
    "tst_str2 = conv_to_desc_string(dim3)\n",
    "print(tst_str2)\n",
    "print(test_slice['QDimension0'] == tst_str2)\n",
    "\n",
    "dim4= np.array([1,1,0])\n",
    "tst_str4 = conv_to_desc_string(dim4)\n",
    "print(tst_str4)\n",
    "print(test_slice['QDimension0'] == tst_str4)"
   ]
  },
  {
   "attachments": {},
   "cell_type": "markdown",
   "metadata": {},
   "source": [
    "replacing dim in slice desc dict with the converted one"
   ]
  },
  {
   "cell_type": "code",
   "execution_count": 67,
   "metadata": {},
   "outputs": [
    {
     "name": "stdout",
     "output_type": "stream",
     "text": [
      "1,1,0\n",
      "1,2,0\n",
      "1,2,0\n"
     ]
    }
   ],
   "source": [
    "print(test_slice['QDimension0'])\n",
    "dim3= [1,2,0]\n",
    "tst_str2 = conv_to_desc_string(dim3)\n",
    "print(tst_str2)\n",
    "test_slice['QDimension0'] = tst_str2\n",
    "print(test_slice['QDimension0'])"
   ]
  },
  {
   "attachments": {},
   "cell_type": "markdown",
   "metadata": {},
   "source": [
    "function to make slice description"
   ]
  },
  {
   "cell_type": "code",
   "execution_count": 68,
   "metadata": {},
   "outputs": [],
   "source": [
    "def make_slice_desc(q_dims_and_bins, path_seg):\n",
    "    # slice description with desired dims and bins and unique name\n",
    "    slice_desc={'QDimension0':conv_to_desc_string(q_dims_and_bins[0]),\n",
    "                'QDimension1':conv_to_desc_string(q_dims_and_bins[1]),\n",
    "                'QDimension2':conv_to_desc_string(q_dims_and_bins[2]),\n",
    "                'Dimension0Name':'QDimension0',\n",
    "                'Dimension0Binning':conv_to_desc_string(q_dims_and_bins[3]),\n",
    "                'Dimension1Name':'QDimension1',\n",
    "                'Dimension1Binning':conv_to_desc_string(q_dims_and_bins[4]),\n",
    "                'Dimension2Name':'QDimension2',\n",
    "                'Dimension2Binning':conv_to_desc_string(q_dims_and_bins[5]),\n",
    "                'Dimension3Name':'DeltaE',\n",
    "                'Dimension3Binning':'-35.5,1,66.5',\n",
    "                'SymmetryOperations':'x,y,z',\n",
    "                'Name':'pathSQE_'+path_seg[0]+'_to_'+path_seg[1]}\n",
    "\n",
    "    return slice_desc\n"
   ]
  },
  {
   "attachments": {},
   "cell_type": "markdown",
   "metadata": {},
   "source": [
    "test"
   ]
  },
  {
   "cell_type": "code",
   "execution_count": 69,
   "metadata": {},
   "outputs": [
    {
     "name": "stdout",
     "output_type": "stream",
     "text": [
      "{'QDimension0': '-1.0,0.0,-1.0', 'QDimension1': '-1.0,0.0,1.0', 'QDimension2': '0.0,1.0,0.0', 'Dimension0Name': 'QDimension0', 'Dimension0Binning': '-0.5,0.025,0.0', 'Dimension1Name': 'QDimension1', 'Dimension1Binning': '-0.15,0.15', 'Dimension2Name': 'QDimension2', 'Dimension2Binning': '0.35,0.65', 'Dimension3Name': 'DeltaE', 'Dimension3Binning': '-35.5,1,66.5', 'SymmetryOperations': 'x,y,z', 'Name': 'slice_pt1_to_pt2'}\n"
     ]
    }
   ],
   "source": [
    "exSlice = make_slice_desc(q_dims_and_bins, ('pt1','pt2'))\n",
    "print(exSlice)"
   ]
  },
  {
   "attachments": {},
   "cell_type": "markdown",
   "metadata": {},
   "source": [
    "# combine whole process and make all slices descriptions at once"
   ]
  },
  {
   "cell_type": "code",
   "execution_count": 75,
   "metadata": {},
   "outputs": [
    {
     "name": "stdout",
     "output_type": "stream",
     "text": [
      "[{'QDimension0': '0.0,1.0,0.0', 'QDimension1': '1,0,0', 'QDimension2': '0,0,1', 'Dimension0Name': 'QDimension0', 'Dimension0Binning': '0.0,0.025,0.5', 'Dimension1Name': 'QDimension1', 'Dimension1Binning': '-0.15,0.15', 'Dimension2Name': 'QDimension2', 'Dimension2Binning': '-0.15,0.15', 'Dimension3Name': 'DeltaE', 'Dimension3Binning': '-35.5,1,66.5', 'SymmetryOperations': 'x,y,z', 'Name': 'slice_GAMMA_to_X'}, {'QDimension0': '1.0,0.0,0.0', 'QDimension1': '0,1,0', 'QDimension2': '0,0,1', 'Dimension0Name': 'QDimension0', 'Dimension0Binning': '0.0,0.025,0.5', 'Dimension1Name': 'QDimension1', 'Dimension1Binning': '0.35,0.65', 'Dimension2Name': 'QDimension2', 'Dimension2Binning': '-0.15,0.15', 'Dimension3Name': 'DeltaE', 'Dimension3Binning': '-35.5,1,66.5', 'SymmetryOperations': 'x,y,z', 'Name': 'slice_X_to_M'}, {'QDimension0': '-1.0,-1.0,0.0', 'QDimension1': '-1.0,1.0,0.0', 'QDimension2': '-0.0,0.0,-1.0', 'Dimension0Name': 'QDimension0', 'Dimension0Binning': '-0.5,0.025,0.0', 'Dimension1Name': 'QDimension1', 'Dimension1Binning': '-0.15,0.15', 'Dimension2Name': 'QDimension2', 'Dimension2Binning': '-0.15,0.15', 'Dimension3Name': 'DeltaE', 'Dimension3Binning': '-35.5,1,66.5', 'SymmetryOperations': 'x,y,z', 'Name': 'slice_M_to_GAMMA'}, {'QDimension0': '1.0,1.0,1.0', 'QDimension1': '1.0,-1.0,0.0', 'QDimension2': '0.5,0.5,-1.0', 'Dimension0Name': 'QDimension0', 'Dimension0Binning': '0.0,0.025,0.5', 'Dimension1Name': 'QDimension1', 'Dimension1Binning': '-0.15,0.15', 'Dimension2Name': 'QDimension2', 'Dimension2Binning': '-0.15,0.15', 'Dimension3Name': 'DeltaE', 'Dimension3Binning': '-35.5,1,66.5', 'SymmetryOperations': 'x,y,z', 'Name': 'slice_GAMMA_to_R'}, {'QDimension0': '-1.0,0.0,-1.0', 'QDimension1': '-1.0,0.0,1.0', 'QDimension2': '0.0,1.0,0.0', 'Dimension0Name': 'QDimension0', 'Dimension0Binning': '-0.5,0.025,0.0', 'Dimension1Name': 'QDimension1', 'Dimension1Binning': '-0.15,0.15', 'Dimension2Name': 'QDimension2', 'Dimension2Binning': '0.35,0.65', 'Dimension3Name': 'DeltaE', 'Dimension3Binning': '-35.5,1,66.5', 'SymmetryOperations': 'x,y,z', 'Name': 'slice_R_to_X'}]\n"
     ]
    }
   ],
   "source": [
    "poscar = simple_read_poscar('files_for_nb/POSCAR')\n",
    "path = seekpath.get_path(structure=poscar)\n",
    "\n",
    "dsl=[]\n",
    "# APPEARS IT MAY NOT BE ABLE TO HANDLE DISCONTINUITIES IN PATH YET (e.g. R>X then R>M (path[5]))\n",
    "for i in range(5): #range(len(path['path'])):\n",
    "    #print(\"on path seg {}\".format(i))\n",
    "    path_seg = path['path'][i]\n",
    "    #print(path_seg)\n",
    "    q_dims_and_bins = choose_dims_and_bins(path_seg,path['point_coords'],perp_to_path=True)\n",
    "    slice_desc = make_slice_desc(q_dims_and_bins, path_seg)\n",
    "    dsl.append(slice_desc)\n",
    "\n",
    "print(dsl)"
   ]
  },
  {
   "cell_type": "code",
   "execution_count": null,
   "metadata": {},
   "outputs": [],
   "source": [
    "#dsl = make_all_slice_descs(path_to_poscar='files_for_nb/POSCAR')\n",
    "#print(dsl)"
<<<<<<< HEAD
   ]
  },
  {
   "attachments": {},
   "cell_type": "markdown",
   "metadata": {},
   "source": [
    "# take slices w/ Mantid python API"
   ]
  },
  {
   "cell_type": "code",
   "execution_count": 77,
   "metadata": {},
   "outputs": [
    {
     "name": "stdout",
     "output_type": "stream",
     "text": [
      "Try loading MDE from /SNS/ARCS/IPTS-21211/shared/Aiden/300K/mde/FeSi_300K_Ei70meV_full.nxs\n",
      "LoadMD-[Notice] LoadMD started\n",
      "Loading normalization and masking file /SNS/ARCS/IPTS-21211/shared/Dipanshu/van108467_new.nxsLoadMD-[Notice] LoadMD successful, Duration 3 minutes 35.81 seconds\n",
      "\n",
      "Load-[Notice] Load started\n",
      "Load-[Notice] Load successful, Duration 3.94 seconds\n",
      "MDNorm-[Notice] MDNorm started\n",
      "MDNorm-[Notice] MDNorm successful, Duration 19.11 seconds\n",
      "MDNorm-[Notice] MDNorm started\n",
      "MDNorm-[Notice] MDNorm successful, Duration 23.51 seconds\n",
      "MDNorm-[Notice] MDNorm started\n",
      "MDNorm-[Notice] MDNorm successful, Duration 24.04 seconds\n",
      "MDNorm-[Notice] MDNorm started\n",
      "MDNorm-[Notice] MDNorm successful, Duration 24.31 seconds\n",
      "MDNorm-[Notice] MDNorm started\n",
      "MDNorm-[Notice] MDNorm successful, Duration 23.68 seconds\n"
     ]
    }
   ],
   "source": [
    "imp.reload(define_data)\n",
    "\n",
    "mde_data=define_data.define_data_set()\n",
    "reduce_data_to_MDE(mde_data)\n",
    "\n",
    "for i in range(len(dsl)):\n",
    "    make_slice(mde_data[0],dsl[i], ASCII_slice_folder='', MD_slice_folder='')"
=======
>>>>>>> c3d50d1c4c5f14bc0b34cc6a97ebc6410c7107ef
   ]
  },
  {
   "attachments": {},
   "cell_type": "markdown",
   "metadata": {},
   "source": [
<<<<<<< HEAD
=======
    "# take slices w/ Mantid python API"
   ]
  },
  {
   "cell_type": "code",
   "execution_count": 77,
   "metadata": {},
   "outputs": [
    {
     "name": "stdout",
     "output_type": "stream",
     "text": [
      "Try loading MDE from /SNS/ARCS/IPTS-21211/shared/Aiden/300K/mde/FeSi_300K_Ei70meV_full.nxs\n",
      "LoadMD-[Notice] LoadMD started\n",
      "Loading normalization and masking file /SNS/ARCS/IPTS-21211/shared/Dipanshu/van108467_new.nxsLoadMD-[Notice] LoadMD successful, Duration 3 minutes 35.81 seconds\n",
      "\n",
      "Load-[Notice] Load started\n",
      "Load-[Notice] Load successful, Duration 3.94 seconds\n",
      "MDNorm-[Notice] MDNorm started\n",
      "MDNorm-[Notice] MDNorm successful, Duration 19.11 seconds\n",
      "MDNorm-[Notice] MDNorm started\n",
      "MDNorm-[Notice] MDNorm successful, Duration 23.51 seconds\n",
      "MDNorm-[Notice] MDNorm started\n",
      "MDNorm-[Notice] MDNorm successful, Duration 24.04 seconds\n",
      "MDNorm-[Notice] MDNorm started\n",
      "MDNorm-[Notice] MDNorm successful, Duration 24.31 seconds\n",
      "MDNorm-[Notice] MDNorm started\n",
      "MDNorm-[Notice] MDNorm successful, Duration 23.68 seconds\n"
     ]
    }
   ],
   "source": [
    "imp.reload(define_data)\n",
    "\n",
    "mde_data=define_data.define_data_set()\n",
    "reduce_data_to_MDE(mde_data)\n",
    "\n",
    "for i in range(len(dsl)):\n",
    "    make_slice(mde_data[0],dsl[i], ASCII_slice_folder='', MD_slice_folder='')"
   ]
  },
  {
   "attachments": {},
   "cell_type": "markdown",
   "metadata": {},
   "source": [
>>>>>>> c3d50d1c4c5f14bc0b34cc6a97ebc6410c7107ef
    "# Plotting slices"
   ]
  },
  {
   "cell_type": "code",
   "execution_count": 35,
   "metadata": {},
   "outputs": [
    {
     "name": "stdout",
     "output_type": "stream",
     "text": [
      "slice_GAMMA_to_X\n"
     ]
    }
   ],
   "source": [
    "x = mtd['slice_GAMMA_to_X']\n",
    "print(x.name())"
   ]
  },
  {
   "cell_type": "code",
   "execution_count": null,
   "metadata": {},
   "outputs": [],
   "source": [
    "fig,ax=plt.subplots(subplot_kw={'projection':'mantid'})\n",
    "plt.rcParams['figure.dpi'] = 300\n",
    "plt.rcParams['savefig.dpi'] = 300\n",
    "plt.set_cmap('viridis')\n",
    "c=plot_slice(dsl[0], ax=ax, cbar_label='Intensity')\n",
    "fig.show()    "
   ]
  },
  {
   "cell_type": "code",
   "execution_count": null,
   "metadata": {},
   "outputs": [],
   "source": [
    "fig,ax=plt.subplots(subplot_kw={'projection':'mantid'})\n",
    "plt.rcParams['figure.dpi'] = 300\n",
    "plt.rcParams['savefig.dpi'] = 300\n",
    "plt.set_cmap('viridis')\n",
    "slice_plot=ax.pcolormesh(mtd['slice_GAMMA_to_X'])\n",
    "fig.show()"
   ]
  },
  {
   "cell_type": "code",
   "execution_count": 76,
   "metadata": {},
   "outputs": [
    {
     "name": "stdout",
     "output_type": "stream",
     "text": [
      "\n",
      "slice number 0\n",
      "QDim0: 0.0,1.0,0.0\n",
      "QDim1: 1,0,0\n",
      "QDim2: 0,0,1\n",
      "\n",
      "slice number 1\n",
      "QDim0: 1.0,0.0,0.0\n",
      "QDim1: 0,1,0\n",
      "QDim2: 0,0,1\n",
      "\n",
      "slice number 2\n",
      "QDim0: -1.0,-1.0,0.0\n",
      "QDim1: -1.0,1.0,0.0\n",
      "QDim2: -0.0,0.0,-1.0\n",
      "\n",
      "slice number 3\n",
      "QDim0: 1.0,1.0,1.0\n",
      "QDim1: 1.0,-1.0,0.0\n",
      "QDim2: 0.5,0.5,-1.0\n",
      "\n",
      "slice number 4\n",
      "QDim0: -1.0,0.0,-1.0\n",
      "QDim1: -1.0,0.0,1.0\n",
      "QDim2: 0.0,1.0,0.0\n"
     ]
    }
   ],
   "source": [
    "#print(len(dsl))\n",
    "#print(dsl[0].get('QDimension0'))\n",
    "#print(dsl[0].get('Dimension0Binning'))\n",
    "\n",
    "for i in range(5):\n",
    "    print(\"\\nslice number {}\".format(i))\n",
    "    print(\"QDim0: \"+dsl[i].get('QDimension0'))\n",
    "    print(\"QDim1: \"+dsl[i].get('QDimension1'))\n",
    "    print(\"QDim2: \"+dsl[i].get('QDimension2'))"
   ]
  },
  {
   "cell_type": "code",
   "execution_count": 80,
   "metadata": {},
   "outputs": [
    {
     "data": {
      "text/plain": [
       "<matplotlib.colorbar.Colorbar at 0x7f65b4566df0>"
      ]
     },
     "execution_count": 80,
     "metadata": {},
     "output_type": "execute_result"
    },
    {
     "data": {
      "image/png": "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",
      "text/plain": [
       "<Figure size 3600x1500 with 6 Axes>"
      ]
     },
     "metadata": {},
     "output_type": "display_data"
    }
   ],
   "source": [
    "# https://docs.mantidproject.org/nightly/plotting/index.html#plotting \n",
    "# Manually plot the path for the FeSi data\n",
    "\n",
    "\n",
    "plt.rcParams['figure.dpi'] = 300\n",
    "plt.rcParams['savefig.dpi'] = 300\n",
    "plt.rcParams.update({'font.size': 15})\n",
    "\n",
    "fig=plt.figure(figsize=(12,5))\n",
    "\n",
    "colormesh_pars={}\n",
    "colormesh_pars['norm']=LogNorm(vmin=0.00005,vmax=0.005)\n",
    "colormesh_pars['cmap']='viridis'\n",
    "\n",
    "\n",
    "a=4.489\n",
    "m_gamma = np.sqrt(2)\n",
    "gamma_r = np.sqrt(3)\n",
    "r_x = np.sqrt(2)\n",
    "gs = GridSpec(1, 5,width_ratios=[1,1,m_gamma,gamma_r,r_x],wspace=0)\n",
    "\n",
    "\n",
    "#fig,ax=plt.subplots(subplot_kw={'projection':'mantid'})\n",
    "#slice_plot=ax.pcolormesh(mtd['slice_GAMMA_to_X'])\n",
    "\n",
    "ax1 = plt.subplot(gs[0],projection='mantid')\n",
    "ax2 = plt.subplot(gs[1],sharey=ax1,projection='mantid')\n",
    "ax3 = plt.subplot(gs[2],sharey=ax1,projection='mantid')\n",
    "ax4 = plt.subplot(gs[3],sharey=ax1,projection='mantid')\n",
    "ax5 = plt.subplot(gs[4],sharey=ax1,projection='mantid')\n",
    "\n",
    "\n",
    "pcm=ax1.pcolormesh(mtd['slice_GAMMA_to_X'], **colormesh_pars)\n",
    "ax2.pcolormesh(mtd['slice_X_to_M'], **colormesh_pars)\n",
    "ax3.pcolormesh(mtd['slice_M_to_GAMMA'],  **colormesh_pars)#cmap='viridis', norm=LogNorm(vmin=0.00005,vmax=0.005))\n",
    "ax4.pcolormesh(mtd['slice_GAMMA_to_R'], **colormesh_pars) #cmap='viridis', norm=LogNorm(vmin=0.00005,vmax=0.005))\n",
    "ax5.pcolormesh(mtd['slice_R_to_X'], **colormesh_pars)\n",
    "\n",
    "\n",
    "#Adjust plotting parameters\n",
    "ax1.set_ylabel('E (meV)')\n",
    "ax1.set_xlabel('')\n",
    "ax1.set_ylim(-10.,30.)\n",
    "ax1.set_xlim(0,0.5)\n",
    "ax1.set_xticks([0,0.5])\n",
    "ax1.set_xticklabels(['$\\Gamma$','$X$'])\n",
    "ax1.tick_params(direction='in')\n",
    "\n",
    "ax2.get_yaxis().set_visible(False)\n",
    "ax2.set_xlabel('')\n",
    "ax2.set_xlim(0,0.5)\n",
    "ax2.set_xticks([0.5])\n",
    "ax2.set_xticklabels(['$M$'])\n",
    "ax2.tick_params(direction='in')\n",
    "\n",
    "ax3.get_yaxis().set_visible(False)\n",
    "ax3.set_xlabel('')\n",
    "ax3.set_xlim(-0.5,0)\n",
    "ax3.set_xticks([0])\n",
    "ax3.set_xticklabels(['$\\Gamma$'])\n",
    "ax3.tick_params(direction='in')\n",
    "\n",
    "ax4.get_yaxis().set_visible(False)\n",
    "ax4.set_xlabel('')\n",
    "ax4.set_xlim(0,0.5)\n",
    "ax4.set_xticks([0.5])\n",
    "ax4.set_xticklabels(['$R$'])\n",
    "ax4.tick_params(direction='in')\n",
    "\n",
    "ax5.get_yaxis().set_visible(False)\n",
    "ax5.set_xlabel('')\n",
    "ax5.set_xlim(-0.5,0)\n",
    "ax5.set_xticks([0])\n",
    "ax5.set_xticklabels(['$X$'])\n",
    "ax5.tick_params(direction='in')\n",
    "\n",
    "fig.colorbar(pcm, ax=[ax1,ax2,ax3,ax4,ax5])\n",
<<<<<<< HEAD
=======
    "\n",
    "#fig.show()\n",
    "#plt.close('all')"
   ]
  },
  {
   "attachments": {},
   "cell_type": "markdown",
   "metadata": {},
   "source": [
    "og code "
   ]
  },
  {
   "cell_type": "code",
   "execution_count": null,
   "metadata": {},
   "outputs": [],
   "source": [
    "# Generate nice (fake) dispersion data\n",
    "# Gamma to K\n",
    "q = np.arange(0,0.333,0.01)\n",
    "e = np.arange(0,60)\n",
    "x,y = np.meshgrid(q,e)\n",
    "omega_hh = 20. * np.sin(np.pi*x*1.5)\n",
    "I_hh = np.exp(-x*5.)\n",
    "signal = I_hh * np.exp(-(y-omega_hh)**2)\n",
    "signal[y>25+100*x**2]=np.nan\n",
    "ws1=CreateMDHistoWorkspace(Dimensionality=2,\n",
    "                           Extents='0,0.3333,0,60',\n",
    "                           SignalInput=signal,\n",
    "                           ErrorInput=np.sqrt(signal),\n",
    "                           NumberOfBins='{0},{1}'.format(len(q),len(e)),\n",
    "                           Names='qdim1,qdim2',\n",
    "                           Units='MomentumTransfer,EnergyTransfer')\n",
    "# K to M\n",
    "q = np.arange (0.333,0.5, 0.01)\n",
    "x,y = np.meshgrid(q,e)\n",
    "omega_hm2h=20. * np.cos(np.pi*(x-0.333))\n",
    "signal = np.exp(-(y-omega_hm2h)**2)\n",
    "signal[y>35]=np.nan\n",
    "ws2=CreateMDHistoWorkspace(Dimensionality=2,\n",
    "                           Extents='0.3333,0.5,0,60',\n",
    "                           SignalInput=signal,\n",
    "                           ErrorInput=np.sqrt(signal),\n",
    "                           NumberOfBins='{0},{1}'.format(len(q),len(e)),\n",
    "                           Names='qdim1,qdim2',\n",
    "                           Units='MomentumTransfer,EnergyTransfer')\n",
    "\n",
    "\n",
    "d=6.7\n",
    "a=2.454\n",
    "#Gamma is (0,0,0)\n",
    "#A is (0,0,1/2)\n",
    "#K is (1/3,1/3,0)\n",
    "#M is (1/2,0,0)\n",
    "gamma_a=np.pi/d\n",
    "gamma_m=2.*np.pi/np.sqrt(3.)/a\n",
    "m_k=2.*np.pi/3/a\n",
    "gamma_k=4.*np.pi/3/a\n",
    "\n",
    "fig=plt.figure(figsize=(12,5))\n",
    "gs = GridSpec(1, 4,\n",
    "              width_ratios=[gamma_k,m_k,gamma_m,gamma_a],\n",
    "              wspace=0)\n",
>>>>>>> c3d50d1c4c5f14bc0b34cc6a97ebc6410c7107ef
    "\n",
    "#fig.show()\n",
    "#plt.close('all')"
   ]
  }
 ],
 "metadata": {
  "kernelspec": {
   "display_name": "mantid",
   "language": "python",
   "name": "python3"
  },
  "language_info": {
   "codemirror_mode": {
    "name": "ipython",
    "version": 3
   },
   "file_extension": ".py",
   "mimetype": "text/x-python",
   "name": "python",
   "nbconvert_exporter": "python",
   "pygments_lexer": "ipython3",
   "version": "3.8.17"
  },
  "orig_nbformat": 4,
  "vscode": {
   "interpreter": {
    "hash": "21207831c8edb9b09d1d126a245c01136c84420ef5ede914b92b1969a12cf52d"
   }
  }
 },
 "nbformat": 4,
 "nbformat_minor": 2
}
