{
 "cells": [
  {
   "attachments": {},
   "cell_type": "markdown",
   "metadata": {},
   "source": [
    "# task description"
   ]
  },
  {
   "attachments": {},
   "cell_type": "markdown",
   "metadata": {},
   "source": [
    "task 1 - write script that takes POSCAR and mde workspace as input and plots dispersions along high symmetry path\n",
    "* write function where you give space group and it outputs you a path (seekpath package)\n",
    "* choose some offset by whole int BZ (depending on coverage, signal strength, rings, etc.); can be different for each slice; care about structure (worry about intens later)\n",
    "* make a slice for each with mantid and save workspace mde\n",
    "* need to scale each portion so that it is in terms of angstrom\n",
    "* need to figure len of each hist so that sym points line up on the plot\n",
    "\n",
    "* in the future, could try to automate the step where you are choosing the offset (i.e. check coverage, check for rings, high q for phonon / low for magnetism, etc.)\n",
    "\n",
    "task 2\n",
    "* also, how to export the histogram as np array and import to python"
   ]
  },
  {
   "attachments": {},
   "cell_type": "markdown",
   "metadata": {},
   "source": [
    "# setup"
   ]
  },
  {
   "cell_type": "code",
   "execution_count": 3,
   "metadata": {},
   "outputs": [],
   "source": [
    "import numpy as np\n",
    "import matplotlib.pyplot as plt\n",
    "import seekpath\n",
    "from seekpath.util import atoms_num_dict"
   ]
  },
  {
   "cell_type": "code",
   "execution_count": null,
   "metadata": {},
   "outputs": [],
   "source": [
    "from matplotlib.gridspec import GridSpec\n",
    "from mantid.simpleapi import CreateMDHistoWorkspace\n",
    "from mantid import plots\n",
    "\n",
    "import sys\n",
    "sys.path.append('/SNS/groups/dgs/DGS_SC_scripts')\n",
    "from reduce_data_to_MDE import *\n",
    "from slice_utils import *\n",
    "import define_data\n",
    "import define_slices\n",
    "import os\n",
    "import imp"
   ]
  },
  {
   "attachments": {},
   "cell_type": "markdown",
   "metadata": {},
   "source": [
    "# read poscar for seekpath input"
   ]
  },
  {
   "cell_type": "code",
   "execution_count": 4,
   "metadata": {},
   "outputs": [],
   "source": [
    "def simple_read_poscar(fname):\n",
    "    \"\"\"Read a POSCAR file.\"\"\"\n",
    "    with open(fname) as f:\n",
    "        lines = [l.partition(\"!\")[0] for l in f.readlines()]\n",
    "\n",
    "    alat = float(lines[1])\n",
    "    v1 = [float(_) * alat for _ in lines[2].split()]\n",
    "    v2 = [float(_) * alat for _ in lines[3].split()]\n",
    "    v3 = [float(_) * alat for _ in lines[4].split()]\n",
    "    cell = [v1, v2, v3]\n",
    "\n",
    "    species = lines[5].split()\n",
    "    num_atoms = [int(_) for _ in lines[6].split()]\n",
    "\n",
    "    next_line = lines[7]\n",
    "    if next_line.strip().lower() != \"direct\":\n",
    "        raise ValueError(\"This simple routine can only deal with 'direct' POSCARs\")\n",
    "    # Note: to support also cartesian, remember to multiply the coordinates by alat\n",
    "\n",
    "    positions = []\n",
    "    atomic_numbers = []\n",
    "    cnt = 8\n",
    "    for el, num in zip(species, num_atoms):\n",
    "        atom_num = atoms_num_dict[el.capitalize()]\n",
    "        for _ in range(num):\n",
    "            atomic_numbers.append(atom_num)\n",
    "            positions.append([float(_) for _ in lines[cnt].split()])\n",
    "            cnt += 1\n",
    "\n",
    "    return (cell, positions, atomic_numbers)"
   ]
  },
  {
   "cell_type": "code",
   "execution_count": 5,
   "metadata": {},
   "outputs": [
    {
     "name": "stdout",
     "output_type": "stream",
     "text": [
      "([[4.65547841329003, -0.0, 0.0], [0.0, 4.65547841329003, -0.0], [0.0, -0.0, 4.65547841329003]], [[0.13476038461486, 0.13476038461486, 0.13476038461486], [0.36523961538514, 0.86523961538514, 0.63476038461486], [0.86523961538514, 0.63476038461486, 0.36523961538514], [0.63476038461486, 0.36523961538514, 0.86523961538514], [0.84874890814554, 0.84874890814554, 0.84874890814554], [0.65125109185446, 0.15125109185446, 0.34874890814554], [0.15125109185446, 0.34874890814554, 0.65125109185446], [0.34874890814554, 0.65125109185446, 0.15125109185446]], [26, 26, 26, 26, 14, 14, 14, 14])\n"
     ]
    }
   ],
   "source": [
    "poscar = simple_read_poscar('/SNS/users/ajs192/Desktop/Research/MDsim_6.30.23/dataViz/POSCAR')\n",
    "print(poscar)"
   ]
  },
  {
   "attachments": {},
   "cell_type": "markdown",
   "metadata": {},
   "source": [
    "# determining high symmetry path"
   ]
  },
  {
   "attachments": {},
   "cell_type": "markdown",
   "metadata": {},
   "source": [
    "FeSi unit cell:\n",
    "\n",
    "<img src=\"FeSi_unitCell.png\" alt=\"Alternative text\" />"
   ]
  },
  {
   "cell_type": "code",
   "execution_count": 6,
   "metadata": {},
   "outputs": [
    {
     "name": "stdout",
     "output_type": "stream",
     "text": [
      "[('GAMMA', 'X'), ('X', 'M'), ('M', 'GAMMA'), ('GAMMA', 'R'), ('R', 'X'), ('R', 'M'), ('M', 'X_1')]\n",
      "{'GAMMA': [0.0, 0.0, 0.0], 'R': [0.5, 0.5, 0.5], 'M': [0.5, 0.5, 0.0], 'X': [0.0, 0.5, 0.0], 'X_1': [0.5, 0.0, 0.0]}\n",
      "dict_keys(['point_coords', 'path', 'has_inversion_symmetry', 'augmented_path', 'bravais_lattice', 'bravais_lattice_extended', 'conv_lattice', 'conv_positions', 'conv_types', 'primitive_lattice', 'primitive_positions', 'primitive_types', 'reciprocal_primitive_lattice', 'inverse_primitive_transformation_matrix', 'primitive_transformation_matrix', 'volume_original_wrt_conv', 'volume_original_wrt_prim', 'spacegroup_number', 'spacegroup_international', 'rotation_matrix'])\n",
      "cP\n"
     ]
    }
   ],
   "source": [
    "path = seekpath.get_path(structure=poscar)\n",
    "print(path['path'])\n",
    "print(path['point_coords'])\n",
    "print(path.keys())\n",
    "\n",
    "print(path['bravais_lattice'])"
   ]
  },
  {
   "attachments": {},
   "cell_type": "markdown",
   "metadata": {},
   "source": [
    "Seekpath for FeSi matches the path given by aflow: https://aflow.org/material/?id=aflow:36503a08caf0a17f\n",
    "\n",
    "Can look at path and BZ in seekpath online tool + visualizer: https://www.materialscloud.org/work/tools/seekpath\n",
    "\n",
    "<img src=\"FeSi_highSymPath1_sm.png\" alt=\"Alternative text\" />\n",
    "\n",
    "<img src=\"FeSi_highSymPath_sm.png\" alt=\"Alternative text\" />"
   ]
  },
  {
   "attachments": {},
   "cell_type": "markdown",
   "metadata": {},
   "source": [
    "# choosing dims and bins for slices"
   ]
  },
  {
   "attachments": {},
   "cell_type": "markdown",
   "metadata": {},
   "source": [
    "Need to be able to choose bin dimensions based on the given symmetry endpoints of each path segment. Work through some example by hand to try and understand the algorithm\n",
    "\n",
    "* For (GAMMA,X)=[(0,0,0),(0,0.5,0)]   !!!MAYBE WRONG!!!\n",
    "\n",
    "'QDimension0':'1,1,0',\n",
    "\n",
    "'QDimension1':'-1,1,0',\n",
    "\n",
    "'QDimension2':'0,0,1',\n",
    "\n",
    "<br>\n",
    "'Dimension0Binning':'-0.15,0.15',\n",
    "\n",
    "'Dimension1Binning':'-0.15,0.15',\n",
    "\n",
    "'Dimension2Binning':'0,0.025,0.5'\n",
    "\n",
    "<br>\n",
    "\n",
    "* For (X,M)=[(0,0.5,0), (0.5,0.5,0)]        !!!ON PAPER!!!\n",
    "\n",
    "'QDimension0':'1,1,0',\n",
    "\n",
    "'QDimension1':'-1,1,0',\n",
    "\n",
    "'QDimension2':'0,0,1',\n",
    "\n",
    "<br>\n",
    "'Dimension0Binning':'3.85,4.15',\n",
    "\n",
    "'Dimension1Binning':'-0.15,0.15',\n",
    "\n",
    "'Dimension2Binning':'-7.3625,0.025,8.4875'\n"
   ]
  },
  {
   "cell_type": "code",
   "execution_count": 7,
   "metadata": {},
   "outputs": [
    {
     "name": "stdout",
     "output_type": "stream",
     "text": [
      "('GAMMA', 'X')\n",
      "[0.0, 0.0, 0.0]\n",
      "[0.0, 0.5, 0.0]\n",
      "test\n",
      "GAMMA\n",
      "[0.0, 0.0, 0.0]\n",
      "cP\n"
     ]
    }
   ],
   "source": [
    "print(path['path'][0])\n",
    "print(path['point_coords']['GAMMA'])\n",
    "print(path['point_coords']['X'])\n",
    "\n",
    "print('test')\n",
    "point_cord = path['point_coords']\n",
    "path_seg = path['path'][0]\n",
    "path_brav = path['bravais_lattice']\n",
    "print(path_seg[0])\n",
    "print(point_cord[path_seg[0]])\n",
    "print(path_brav)"
   ]
  },
  {
   "cell_type": "code",
   "execution_count": 8,
   "metadata": {},
   "outputs": [
    {
     "name": "stdout",
     "output_type": "stream",
     "text": [
      "[0.  0.5 0. ]\n",
      "[1]\n",
      "[-2.    0.05  2.  ]\n"
     ]
    }
   ],
   "source": [
    "diff = np.array(point_cord[path_seg[1]]) - np.array(point_cord[path_seg[0]])\n",
    "print(diff)\n",
    "print(np.nonzero(diff)[0])\n",
    "scaler = 1/diff[np.nonzero(diff)[0]]\n",
    "qdim0_range = np.array([-1,0.025,1])\n",
    "print(qdim0_range*scaler)"
   ]
  },
  {
   "cell_type": "code",
   "execution_count": 9,
   "metadata": {},
   "outputs": [
    {
     "name": "stdout",
     "output_type": "stream",
     "text": [
      "[0.3  0.   0.75]\n",
      "[0 2]\n",
      "[-3.33333333  0.08333333  3.33333333]\n"
     ]
    }
   ],
   "source": [
    "diff3d = np.array([0.3,0,0.75])\n",
    "print(diff3d)\n",
    "print(np.nonzero(diff3d)[0])\n",
    "minDiffNonZero = np.min(diff3d[np.nonzero(diff3d)[0]])\n",
    "scaler = 1/minDiffNonZero\n",
    "def_range = np.array([-1,0.025,1])\n",
    "qdim0_range = def_range*scaler\n",
    "print(qdim0_range)"
   ]
  },
  {
   "cell_type": "code",
   "execution_count": 10,
   "metadata": {},
   "outputs": [],
   "source": [
    "def find_qdim0_range(qdim0):\n",
    "    # calculating default QDimension0 range and bin size\n",
    "    # bounds chosen to cover first BZ and step is from most mantid examples\n",
    "    def_range = np.array([-0.5,0.025,0.5])\n",
    "    minDiffNonZero = np.min(qdim0[np.nonzero(qdim0)[0]])\n",
    "    # scaler makes sure resolution stays normal with weird qdim0\n",
    "    scaler = 1/minDiffNonZero\n",
    "    qdim0_range = def_range*scaler\n",
    "    return qdim0_range"
   ]
  },
  {
   "cell_type": "code",
   "execution_count": 11,
   "metadata": {},
   "outputs": [
    {
     "name": "stdout",
     "output_type": "stream",
     "text": [
      "[0.37139068 0.         0.92847669]\n",
      "h parallel score: 0.3713906763541037\n",
      "k parallel score: 0.0\n",
      "l parallel score: 0.9284766908852594\n"
     ]
    }
   ],
   "source": [
    "h = np.array([1,0,0])\n",
    "k = np.array([0,1,0])\n",
    "l = np.array([0,0,1])\n",
    "\n",
    "#qdim0 = np.array(point_cord[path_seg[1]]) - np.array(point_cord[path_seg[0]])\n",
    "qdim0 = np.array([0.3,0,0.75])\n",
    "unit_qdim0 = qdim0 / np.linalg.norm(qdim0)\n",
    "print(unit_qdim0)\n",
    "print(\"h parallel score: {}\".format(np.dot(unit_qdim0,h)))\n",
    "print(\"k parallel score: {}\".format(np.dot(unit_qdim0,k)))\n",
    "print(\"l parallel score: {}\".format(np.dot(unit_qdim0,l)))\n"
   ]
  },
  {
   "attachments": {},
   "cell_type": "markdown",
   "metadata": {},
   "source": [
    "Helpful links:\n",
    "* Angle btw two vecs: https://www.emathhelp.net/en/calculators/linear-algebra/angle-between-two-vectors-calculator/?u=0.25%2C0.75%2C0.5&v=0.75%2C-0.25%2C0\n",
    "\n",
    "* Cross product calc: https://www.symbolab.com/solver/vector-cross-product-calculator/%5Cbegin%7Bpmatrix%7D0.25%260.75%260.5%5Cend%7Bpmatrix%7D%5Ctimes%5Cbegin%7Bpmatrix%7D0.75%26-0.25%260%5Cend%7Bpmatrix%7D?or=input\n",
    "\n",
    "* Find plane eq given 3 points: https://keisan.casio.com/exec/system/1223596129\n",
    "\n",
    "* Geogebra 3D viz: https://www.geogebra.org/3d?lang=en "
   ]
  },
  {
   "cell_type": "code",
   "execution_count": 12,
   "metadata": {},
   "outputs": [],
   "source": [
    "def calc_para_scores(qdim0):\n",
    "    hkl = np.array([[1,0,0],[0,1,0],[0,0,1]])\n",
    "    unit_qdim0 = qdim0 / np.linalg.norm(qdim0)\n",
    "    # calculate degree of parallelism btw qdim0 and hkl vecs\n",
    "    para_scores = np.zeros((3,1))\n",
    "    for i in range(3):\n",
    "        para_scores[i] = np.dot(unit_qdim0,hkl[i])\n",
    "    return para_scores\n",
    "\n",
    "\n",
    "\n",
    "def find_qdim_1and2(qdim0, path_bravLatt, choose_cubic_QDims=False):\n",
    "    hkl = np.array([[1,0,0],[0,1,0],[0,0,1]])\n",
    "    \n",
    "    # check if bravais lattice is cubic and if \n",
    "    # non-default, cubic qdim1,2 selection is wanted\n",
    "    if (path_bravLatt[0]=='c') and (choose_cubic_QDims):\n",
    "        if np.count_nonzero(qdim0) == 1:\n",
    "            # if diff=dim0 is 1D, then dim1 and dim2 will also just be 1D h,k,or l\n",
    "            qdim0_dir = np.nonzero(qdim0)[0]\n",
    "            hkl_avail = np.delete(hkl, qdim0_dir, axis=0)\n",
    "            qdim1 = hkl_avail[0]\n",
    "            qdim2 = hkl_avail[1]\n",
    "        elif (np.count_nonzero(qdim0) == 2) or (np.count_nonzero(qdim0) == 3):\n",
    "            nzeroInds = np.nonzero(qdim0)[0]\n",
    "            qdim1 = qdim0.copy()\n",
    "            # swap h and k and make one negative to give perpen direction within the horizontal plane\n",
    "            # If qdim0 is 3D, need to set l to 0 so that it is perpen and in the horizontal plane \n",
    "            qdim1[nzeroInds[0]], qdim1[nzeroInds[1]] = -qdim0[nzeroInds[1]], qdim0[nzeroInds[0]]\n",
    "            if np.count_nonzero(qdim0) == 3:\n",
    "                qdim1[2] = 0 \n",
    "            # qdim2 is simply the direction perpen to qdim0 and qdim1\n",
    "            qdim2 = np.cross(qdim0, qdim1)\n",
    "            # normalize the two qdims so that mag of each is 1 A-1 and can easily do bins +/- 0.15\n",
    "            qdim1 = qdim1 / np.linalg.norm(qdim1)\n",
    "            qdim2 = qdim2 / np.linalg.norm(qdim2)\n",
    "        else:\n",
    "            raise ValueError(\"The selected symmetry path contains a segment which is greater than 3 dimensions\") \n",
    "    else:\n",
    "        # if the lattice isn't cubic and/or the default qdim selection is wanted, do it based on which 2 hkl are most perp (i.e. least para) to dim0\n",
    "        para_scores = calc_para_scores(qdim0)\n",
    "        # want two directions most perpen to qdim0 to be qdim1 and qdim2\n",
    "        qdim1_ind = np.argmin(para_scores)\n",
    "        qdim1 = hkl[qdim1_ind]\n",
    "        # set qdim1 as highest so it won't be chosen for qdim2\n",
    "        para_scores[qdim1_ind] = 2\n",
    "        qdim2_ind = np.argmin(para_scores)\n",
    "        qdim2 = hkl[qdim2_ind]\n",
    "    return qdim1, qdim2"
   ]
  },
  {
   "attachments": {},
   "cell_type": "markdown",
   "metadata": {},
   "source": [
    "tests"
   ]
  },
  {
   "cell_type": "code",
   "execution_count": 13,
   "metadata": {},
   "outputs": [
    {
     "name": "stdout",
     "output_type": "stream",
     "text": [
      "[-0.78086881  0.          0.62469505] [ 0. -1.  0.]\n",
      "[0 1 0] [1 0 0]\n",
      "\n",
      "test2:\n",
      "[-0.70710678  0.70710678  0.        ] [ 0. -0.  1.]\n"
     ]
    }
   ],
   "source": [
    "qdim0 = np.array([0.6,0,0.75])\n",
    "qdim1,qdim2 = find_qdim_1and2(qdim0, path_brav, choose_cubic_QDims=True)\n",
    "print(qdim1,qdim2)\n",
    "\n",
    "qdim0 = np.array([0.6,0,0.75])\n",
    "qdim1,qdim2 = find_qdim_1and2(qdim0, path_brav, choose_cubic_QDims=False)\n",
    "print(qdim1,qdim2)\n",
    "\n",
    "print(\"\\ntest2:\")\n",
    "qdim0 = np.array([0.5,0.5,0])\n",
    "qdim1,qdim2 = find_qdim_1and2(qdim0, path_brav, choose_cubic_QDims=True)\n",
    "print(qdim1,qdim2)"
   ]
  },
  {
   "attachments": {},
   "cell_type": "markdown",
   "metadata": {},
   "source": [
    "dev"
   ]
  },
  {
   "cell_type": "code",
   "execution_count": 14,
   "metadata": {},
   "outputs": [
    {
     "name": "stdout",
     "output_type": "stream",
     "text": [
      "[]\n",
      "[0 1 2]\n",
      "[0.5 0.5 0.5]\n",
      "[-0.70710678  0.70710678  0.        ]\n",
      "[-0.40824829 -0.40824829  0.81649658]\n"
     ]
    }
   ],
   "source": [
    "#qdim0tst = np.array([0.25,0.75,0.5])\n",
    "qdim0tst = np.array([0.5,0.5,0.5])\n",
    "#qdim0tst = np.array([1,0,0])\n",
    "hkl = np.array([[1,0,0],[0,1,0],[0,0,1]])\n",
    "zeroInds = np.where(qdim0tst == 0)[0]\n",
    "nzeroInds = np.nonzero(qdim0tst)[0]\n",
    "print(zeroInds)\n",
    "print(nzeroInds)\n",
    "qdim1tst = qdim0tst.copy()\n",
    "qdim1tst[nzeroInds[0]], qdim1tst[nzeroInds[1]] = -qdim0tst[nzeroInds[1]], qdim0tst[nzeroInds[0]]\n",
    "if np.count_nonzero(qdim0tst) == 3:\n",
    "    qdim1tst[2] = 0 \n",
    "qdim2tst = np.cross(qdim0tst, qdim1tst)\n",
    "qdim1tst = qdim1tst / np.linalg.norm(qdim1tst)\n",
    "qdim2tst = qdim2tst / np.linalg.norm(qdim2tst)\n",
    "print(qdim0tst)\n",
    "print(qdim1tst)\n",
    "print(qdim2tst)"
   ]
  },
  {
   "attachments": {},
   "cell_type": "markdown",
   "metadata": {},
   "source": [
    "driver function for dim and bin selection"
   ]
  },
  {
   "cell_type": "code",
   "execution_count": 15,
   "metadata": {},
   "outputs": [],
   "source": [
    "def choose_dims_and_bins(path_segment, point_coords, path_bravLatt, choose_cubic_QDims=False):\n",
    "    \n",
    "    pt1 = np.array(point_coords[path_segment[0]])\n",
    "    pt2 = np.array(point_coords[path_segment[1]])\n",
    "    diff = pt2 - pt1\n",
    "\n",
    "    # calculating default QDimension0 axis direction, range, and bin size\n",
    "    qdim0 = diff\n",
    "    qdim0_range = find_qdim0_range(qdim0)\n",
    "\n",
    "    # determine the directions of qdim1 and qdim2\n",
    "    qdim1,qdim2 = find_qdim_1and2(qdim0,path_bravLatt,choose_cubic_QDims)\n",
    "    qdim1_range = [-0.15,0.15]\n",
    "    qdim2_range = [-0.15,0.15] \n",
    "\n",
    "    # return list contains various types (mainly np arrays) that are converted to properly formatted strings\n",
    "    # as a part of the slice description generation process\n",
    "    q_dims_and_bins = [qdim0, qdim1, qdim2, qdim0_range, qdim1_range, qdim2_range]\n",
    "    return q_dims_and_bins\n"
   ]
  },
  {
   "attachments": {},
   "cell_type": "markdown",
   "metadata": {},
   "source": [
    "driver test"
   ]
  },
  {
   "cell_type": "code",
   "execution_count": 26,
   "metadata": {},
   "outputs": [
    {
     "name": "stdout",
     "output_type": "stream",
     "text": [
      "('GAMMA', 'R')\n",
      "{'GAMMA': [0.0, 0.0, 0.0], 'R': [0.5, 0.5, 0.5], 'M': [0.5, 0.5, 0.0], 'X': [0.0, 0.5, 0.0], 'X_1': [0.5, 0.0, 0.0]}\n",
      "cP\n",
      "[array([0.5, 0.5, 0.5]), array([-0.70710678,  0.70710678,  0.        ]), array([-0.40824829, -0.40824829,  0.81649658]), array([-1.  ,  0.05,  1.  ]), [-0.15, 0.15], [-0.15, 0.15]]\n"
     ]
    }
   ],
   "source": [
    "path_seg = path['path'][3]\n",
    "point_cord = path['point_coords']\n",
    "path_brav = path['bravais_lattice']\n",
    "print(path_seg)\n",
    "print(point_cord)\n",
    "print(path_brav)\n",
    "\n",
    "q_dims_and_bins = choose_dims_and_bins(path_seg,point_cord,path_brav,choose_cubic_QDims=True)\n",
    "print(q_dims_and_bins)"
   ]
  },
  {
   "attachments": {},
   "cell_type": "markdown",
   "metadata": {},
   "source": [
    "# making slice descriptions"
   ]
  },
  {
   "cell_type": "code",
   "execution_count": 46,
   "metadata": {},
   "outputs": [],
   "source": [
    "test_slice={'QDimension0':'1,1,0',\n",
    "            'QDimension1':'-1,1,0',\n",
    "            'QDimension2':'0,0,1',\n",
    "            'Dimension0Name':'QDimension0',\n",
    "            'Dimension0Binning':'3.85,4.15',\n",
    "            'Dimension1Name':'QDimension1',\n",
    "            'Dimension1Binning':'-0.15,0.15',\n",
    "            'Dimension2Name':'QDimension2',\n",
    "            'Dimension2Binning':'-7.3625,0.025,8.4875',\n",
    "            'Dimension3Name':'DeltaE',\n",
    "            'Dimension3Binning':'-35.5,1,66.5',\n",
    "            'SymmetryOperations':'x,y,z'}"
   ]
  },
  {
   "cell_type": "code",
   "execution_count": 47,
   "metadata": {},
   "outputs": [],
   "source": [
    "def convToDescString(input_item):\n",
    "    # works for np arrays, lists, and tuples\n",
    "    string = ''\n",
    "    for item in input_item:\n",
    "        string = string + str(item) +','\n",
    "    string = string[:-1]\n",
    "    return string"
   ]
  },
  {
   "cell_type": "code",
   "execution_count": 48,
   "metadata": {},
   "outputs": [
    {
     "name": "stdout",
     "output_type": "stream",
     "text": [
      "1,1,0\n",
      "1,1,0\n",
      "True\n",
      "1,1,0\n",
      "True\n",
      "1,1,0\n",
      "True\n"
     ]
    }
   ],
   "source": [
    "print(test_slice['QDimension0'])\n",
    "qdim2= 1,1,0\n",
    "tst_str = convToDescString(qdim2)\n",
    "print(tst_str)\n",
    "print(test_slice['QDimension0'] == tst_str)\n",
    "\n",
    "dim3= [1,1,0]\n",
    "tst_str2 = convToDescString(dim3)\n",
    "print(tst_str2)\n",
    "print(test_slice['QDimension0'] == tst_str2)\n",
    "\n",
    "dim4= np.array([1,1,0])\n",
    "tst_str4 = convToDescString(dim4)\n",
    "print(tst_str4)\n",
    "print(test_slice['QDimension0'] == tst_str4)"
   ]
  },
  {
   "attachments": {},
   "cell_type": "markdown",
   "metadata": {},
   "source": [
    "replacing dim in slice desc dict with the converted one"
   ]
  },
  {
   "cell_type": "code",
   "execution_count": 49,
   "metadata": {},
   "outputs": [
    {
     "name": "stdout",
     "output_type": "stream",
     "text": [
      "1,1,0\n",
      "1,2,0\n",
      "1,2,0\n"
     ]
    }
   ],
   "source": [
    "print(test_slice['QDimension0'])\n",
    "dim3= [1,2,0]\n",
    "tst_str2 = convToDescString(dim3)\n",
    "print(tst_str2)\n",
    "test_slice['QDimension0'] = tst_str2\n",
    "print(test_slice['QDimension0'])"
   ]
  },
  {
   "attachments": {},
   "cell_type": "markdown",
   "metadata": {},
   "source": [
    "function to make slice description"
   ]
  },
  {
   "cell_type": "code",
   "execution_count": 56,
   "metadata": {},
   "outputs": [],
   "source": [
    "def make_slice_desc(q_dims_and_bins):\n",
    "    # baseline slice description to be edited\n",
    "    slice_desc={'QDimension0':'1,0,0',\n",
    "                'QDimension1':'0,1,0',\n",
    "                'QDimension2':'0,0,1',\n",
    "                'Dimension0Name':'QDimension0',\n",
    "                'Dimension0Binning':'0,0.025,0.5',\n",
    "                'Dimension1Name':'QDimension1',\n",
    "                'Dimension1Binning':'-0.15,0.15',\n",
    "                'Dimension2Name':'QDimension2',\n",
    "                'Dimension2Binning':'-0.15,0.15',\n",
    "                'Dimension3Name':'DeltaE',\n",
    "                'Dimension3Binning':'-35.5,1,66.5',\n",
    "                'SymmetryOperations':'x,y,z'}\n",
    "    \n",
    "    # replacing defaults with the desired q dims and bins\n",
    "    slice_desc['QDimension0'] = convToDescString(q_dims_and_bins[0])\n",
    "    slice_desc['QDimension1'] = convToDescString(q_dims_and_bins[1])\n",
    "    slice_desc['QDimension2'] = convToDescString(q_dims_and_bins[2])\n",
    "    slice_desc['Dimension0Binning'] = convToDescString(q_dims_and_bins[3])\n",
    "    slice_desc['Dimension1Binning'] = convToDescString(q_dims_and_bins[4])\n",
    "    slice_desc['Dimension2Binning'] = convToDescString(q_dims_and_bins[5])\n",
    "\n",
    "    return slice_desc\n",
    "\n"
   ]
  },
  {
   "attachments": {},
   "cell_type": "markdown",
   "metadata": {},
   "source": [
    "test"
   ]
  },
  {
   "cell_type": "code",
   "execution_count": 57,
   "metadata": {},
   "outputs": [
    {
     "name": "stdout",
     "output_type": "stream",
     "text": [
      "{'QDimension0': '0.0,0.5,0.0', 'QDimension1': '1,0,0', 'QDimension2': '0,0,1', 'Dimension0Name': 'QDimension0', 'Dimension0Binning': '-1.0,0.05,1.0', 'Dimension1Name': 'QDimension1', 'Dimension1Binning': '-0.15,0.15', 'Dimension2Name': 'QDimension2', 'Dimension2Binning': '-0.15,0.15', 'Dimension3Name': 'DeltaE', 'Dimension3Binning': '-35.5,1,66.5', 'SymmetryOperations': 'x,y,z'}\n"
     ]
    }
   ],
   "source": [
    "exSlice = make_slice_desc(q_dims_and_bins)\n",
    "print(exSlice)"
   ]
  },
  {
   "attachments": {},
   "cell_type": "markdown",
   "metadata": {},
   "source": [
    "# take slice w/ Mantid python API"
   ]
  },
  {
   "attachments": {},
   "cell_type": "markdown",
   "metadata": {},
   "source": [
    "# scale q and plot many slices together"
   ]
  },
  {
   "cell_type": "code",
   "execution_count": null,
   "metadata": {},
   "outputs": [],
   "source": [
    "# https://docs.mantidproject.org/nightly/plotting/index.html#plotting \n",
    "# Manually plot the path for the FeSi data\n",
    "m_gamma = np.sqrt(2)\n",
    "gamma_r = np.sqrt(3)\n",
    "r_x = np.sqrt(2)\n",
    "\n",
    "fig=plt.figure(figsize=(12,5))\n",
    "gs = GridSpec(1, 5,width_ratios=[1,1,m_gamma,gamma_r,r_x],wspace=0)\n",
    "\n",
    "ax1 = plt.subplot(gs[0],projection='mantid')\n",
    "ax2 = plt.subplot(gs[1],sharey=ax1,projection='mantid')\n",
    "ax3 = plt.subplot(gs[2],sharey=ax1,projection='mantid')\n",
    "ax4 = plt.subplot(gs[3],sharey=ax1,projection='mantid')\n",
    "ax5 = plt.subplot(gs[4],sharey=ax1,projection='mantid')\n",
    "\n",
    "\n",
    "colormesh_pars={}\n",
    "colormesh_pars['norm']=LogNorm(vmin=1e-6,vmax=1)\n",
    "\n",
    "mtd.importAll()\n",
    "ax1.pcolormesh(FeSi_300K_Ei70meV_GAMMA2X, **colormesh_pars)\n",
    "ax2.pcolormesh(FeSi_300K_Ei70meV_X2M, **colormesh_pars)\n",
    "ax3.pcolormesh(FeSi_300K_Ei70meV_M2GAMMA, **colormesh_pars)\n",
    "ax4.pcolormesh(FeSi_300K_Ei70meV_GAMMA2R, **colormesh_pars)\n",
    "ax5.pcolormesh(FeSi_300K_Ei70meV_R2X, **colormesh_pars)\n",
    "\n",
    "#Adjust plotting parameters\n",
    "\n",
    "ax1.set_ylabel('E (meV)')\n",
    "ax1.set_xlabel('')\n",
    "#ax1.set_xlim(0,1./3)\n",
    "ax1.set_ylim(-10.,30.)\n",
    "#ax1.set_title(r'$[\\epsilon,\\epsilon,0], 0 \\leq \\epsilon \\leq 1/3$')\n",
    "ax1.set_xticks([0,0.5])\n",
    "ax1.set_xticklabels(['$\\Gamma$','$X$'])\n",
    "#ax1.spines['right'].set_visible(False)\n",
    "ax1.tick_params(direction='in')\n",
    "\n",
    "ax2.get_yaxis().set_visible(False)\n",
    "#ax2.set_xlim(1./3,1./2)\n",
    "ax2.set_xlabel('')\n",
    "#ax2.set_title(r'$[1/3+\\epsilon,1/3-2\\epsilon,0], 0 \\leq \\epsilon \\leq 1/6$')\n",
    "ax2.set_xticks([0.5])\n",
    "ax2.set_xticklabels(['$M$'])\n",
    "#ax2.spines['left'].set_visible(False)\n",
    "ax2.tick_params(direction='in')\n",
    "\n",
    "ax3.get_yaxis().set_visible(False)\n",
    "ax3.set_xlim(0.5,0)\n",
    "ax3.set_xlabel('')\n",
    "#ax2.set_title(r'$[1/3+\\epsilon,1/3-2\\epsilon,0], 0 \\leq \\epsilon \\leq 1/6$')\n",
    "ax3.set_xticks([0])\n",
    "ax3.set_xticklabels(['$\\Gamma$'])\n",
    "#ax2.spines['left'].set_visible(False)\n",
    "ax3.tick_params(direction='in')\n",
    "\n",
    "ax4.get_yaxis().set_visible(False)\n",
    "#ax2.set_xlim(1./3,1./2)\n",
    "ax4.set_xlabel('')\n",
    "#ax2.set_title(r'$[1/3+\\epsilon,1/3-2\\epsilon,0], 0 \\leq \\epsilon \\leq 1/6$')\n",
    "ax4.set_xticks([0.5])\n",
    "ax4.set_xticklabels(['$R$'])\n",
    "#ax2.spines['left'].set_visible(False)\n",
    "ax4.tick_params(direction='in')\n",
    "\n",
    "ax5.get_yaxis().set_visible(False)\n",
    "#ax2.set_xlim(1./3,1./2)\n",
    "ax5.set_xlabel('')\n",
    "#ax2.set_title(r'$[1/3+\\epsilon,1/3-2\\epsilon,0], 0 \\leq \\epsilon \\leq 1/6$')\n",
    "ax5.set_xticks([0.5])\n",
    "ax5.set_xticklabels(['$X$'])\n",
    "#ax2.spines['left'].set_visible(False)\n",
    "ax5.tick_params(direction='in')\n",
    "\n",
    "mid = (fig.subplotpars.right + fig.subplotpars.left)/2\n",
    "plt.suptitle('FeSi S(Q,E) along high symmetry path in 1st BZ',x=mid)\n",
    "\n",
    "fig.show()"
   ]
  },
  {
   "attachments": {},
   "cell_type": "markdown",
   "metadata": {},
   "source": [
    "og code "
   ]
  },
  {
   "cell_type": "code",
   "execution_count": null,
   "metadata": {},
   "outputs": [],
   "source": [
    "# Generate nice (fake) dispersion data\n",
    "# Gamma to K\n",
    "q = np.arange(0,0.333,0.01)\n",
    "e = np.arange(0,60)\n",
    "x,y = np.meshgrid(q,e)\n",
    "omega_hh = 20. * np.sin(np.pi*x*1.5)\n",
    "I_hh = np.exp(-x*5.)\n",
    "signal = I_hh * np.exp(-(y-omega_hh)**2)\n",
    "signal[y>25+100*x**2]=np.nan\n",
    "ws1=CreateMDHistoWorkspace(Dimensionality=2,\n",
    "                           Extents='0,0.3333,0,60',\n",
    "                           SignalInput=signal,\n",
    "                           ErrorInput=np.sqrt(signal),\n",
    "                           NumberOfBins='{0},{1}'.format(len(q),len(e)),\n",
    "                           Names='qdim1,qdim2',\n",
    "                           Units='MomentumTransfer,EnergyTransfer')\n",
    "# K to M\n",
    "q = np.arange (0.333,0.5, 0.01)\n",
    "x,y = np.meshgrid(q,e)\n",
    "omega_hm2h=20. * np.cos(np.pi*(x-0.333))\n",
    "signal = np.exp(-(y-omega_hm2h)**2)\n",
    "signal[y>35]=np.nan\n",
    "ws2=CreateMDHistoWorkspace(Dimensionality=2,\n",
    "                           Extents='0.3333,0.5,0,60',\n",
    "                           SignalInput=signal,\n",
    "                           ErrorInput=np.sqrt(signal),\n",
    "                           NumberOfBins='{0},{1}'.format(len(q),len(e)),\n",
    "                           Names='qdim1,qdim2',\n",
    "                           Units='MomentumTransfer,EnergyTransfer')\n",
    "\n",
    "\n",
    "d=6.7\n",
    "a=2.454\n",
    "#Gamma is (0,0,0)\n",
    "#A is (0,0,1/2)\n",
    "#K is (1/3,1/3,0)\n",
    "#M is (1/2,0,0)\n",
    "gamma_a=np.pi/d\n",
    "gamma_m=2.*np.pi/np.sqrt(3.)/a\n",
    "m_k=2.*np.pi/3/a\n",
    "gamma_k=4.*np.pi/3/a\n",
    "\n",
    "fig=plt.figure(figsize=(12,5))\n",
    "gs = GridSpec(1, 4,\n",
    "              width_ratios=[gamma_k,m_k,gamma_m,gamma_a],\n",
    "              wspace=0)\n",
    "\n",
    "ax1 = plt.subplot(gs[0],projection='mantid')\n",
    "ax2 = plt.subplot(gs[1],sharey=ax1,projection='mantid')\n",
    "ax3 = plt.subplot(gs[2],sharey=ax1)\n",
    "ax4 = plt.subplot(gs[3],sharey=ax1)\n",
    "\n",
    "ax1.pcolormesh(ws1)\n",
    "ax2.pcolormesh(ws2)\n",
    "ax3.plot([0,0.5],[0,17.])\n",
    "ax4.plot([0,0.5],[0,10])\n",
    "\n",
    "\n",
    "#Adjust plotting parameters\n",
    "\n",
    "ax1.set_ylabel('E (meV)')\n",
    "ax1.set_xlabel('')\n",
    "ax1.set_xlim(0,1./3)\n",
    "ax1.set_ylim(0.,40.)\n",
    "ax1.set_title(r'$[\\epsilon,\\epsilon,0], 0 \\leq \\epsilon \\leq 1/3$')\n",
    "ax1.set_xticks([0,1./3])\n",
    "ax1.set_xticklabels(['$\\Gamma$','$K$'])\n",
    "#ax1.spines['right'].set_visible(False)\n",
    "ax1.tick_params(direction='in')\n",
    "\n",
    "ax2.get_yaxis().set_visible(False)\n",
    "ax2.set_xlim(1./3,1./2)\n",
    "ax2.set_xlabel('')\n",
    "ax2.set_title(r'$[1/3+\\epsilon,1/3-2\\epsilon,0], 0 \\leq \\epsilon \\leq 1/6$')\n",
    "ax2.set_xticks([1./2])\n",
    "ax2.set_xticklabels(['$M$'])\n",
    "#ax2.spines['left'].set_visible(False)\n",
    "ax2.tick_params(direction='in')\n",
    "\n",
    "#invert axis\n",
    "ax3.set_xlim(1./2,0)\n",
    "ax3.get_yaxis().set_visible(False)\n",
    "ax3.set_title(r'$[\\epsilon,0,0], 1/2 \\geq \\epsilon \\geq 0$')\n",
    "ax3.set_xticks([0])\n",
    "ax3.set_xticklabels(['$\\Gamma$'])\n",
    "ax3.tick_params(direction='in')\n",
    "\n",
    "ax4.set_xlim(0,1./2)\n",
    "ax4.get_yaxis().set_visible(False)\n",
    "ax4.set_title(r'$[0,0,\\epsilon], 0 \\leq \\epsilon \\leq 1/2$')\n",
    "ax4.set_xticks([1./2])\n",
    "ax4.set_xticklabels(['$A$'])\n",
    "ax4.tick_params(direction='in')\n",
    "#fig.show()"
   ]
  },
  {
   "attachments": {},
   "cell_type": "markdown",
   "metadata": {},
   "source": [
    "func inspired by: https://github.com/giovannipizzi/seekpath/blob/main/tests/test_paths_hpkot.py"
   ]
  }
 ],
 "metadata": {
  "kernelspec": {
   "display_name": "mantid",
   "language": "python",
   "name": "python3"
  },
  "language_info": {
   "codemirror_mode": {
    "name": "ipython",
    "version": 3
   },
   "file_extension": ".py",
   "mimetype": "text/x-python",
   "name": "python",
   "nbconvert_exporter": "python",
   "pygments_lexer": "ipython3",
   "version": "3.8.17"
  },
  "orig_nbformat": 4,
  "vscode": {
   "interpreter": {
    "hash": "21207831c8edb9b09d1d126a245c01136c84420ef5ede914b92b1969a12cf52d"
   }
  }
 },
 "nbformat": 4,
 "nbformat_minor": 2
}
